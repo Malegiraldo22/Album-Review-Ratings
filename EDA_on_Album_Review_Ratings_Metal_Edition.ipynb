{
  "nbformat": 4,
  "nbformat_minor": 0,
  "metadata": {
    "colab": {
      "name": "EDA on Album Review Ratings - Metal Edition",
      "provenance": [],
      "collapsed_sections": []
    },
    "kernelspec": {
      "name": "python3",
      "display_name": "Python 3"
    }
  },
  "cells": [
    {
      "cell_type": "markdown",
      "metadata": {
        "id": "KpTb5mkpkPH-"
      },
      "source": [
        "# EDA in Album Reviews Ratings Dataset - Metal Edition\n",
        "\n",
        "Not long ago I made an Exploratory Data Analysis on the Album Reviews Ratings Dataset made by Kauvan Lucas at [Kaggle](https://www.kaggle.com/kauvinlucas/30000-albums-aggregated-review-ratings) which can be found [here](https://github.com/Malegiraldo22/Album-Review-Ratings/blob/main/album-review-ratings.ipynb). The dataset contains a huge amount of records from diffrent year and their score and reviews (both made by critics and users) at websites like Metacritic and AOTY. While I was doing it, I saw that there was a lot of Heavy Metal artists on the dataset, so I decided to answer the similar questions that I answered on the other notebook but only using Metal artists, and changing a bit the questions to use all the years in the dataset and not only data from 2000 to 2020.\n",
        "\n",
        "The questions selected were:\n",
        "\n",
        "* What are the most acclaimed albums of each of the year by the users?\n",
        "* What are the most hyped records of each year by the users.\n",
        "* What artists generate the most hype?\n",
        "* What are the most critically acclaimed artists of the entire dataset?\n",
        "* Which Metal sub-genre generates the most feedback either from the critics and from the users?\n",
        "* Which are the albums with the most negative reception, either from the critics and from the users?\n",
        "* Which EP album was the most hyped?\n",
        "* What release months are the most well received by the users and critics?\n",
        "* Which records not well received by the users are most critically acclaimed?\n",
        "* Which records not well received by the critic are the most acclaimed by the users?\n",
        "* Other questions that I might have while executing this\n",
        "</p>"
      ]
    },
    {
      "cell_type": "code",
      "metadata": {
        "id": "7ZmSd3qKkEWU"
      },
      "source": [
        "import pandas as pd\n",
        "import matplotlib.pyplot as plt\n",
        "import seaborn as sns\n",
        "\n",
        "pd.options.display.max_columns=20"
      ],
      "execution_count": null,
      "outputs": []
    },
    {
      "cell_type": "markdown",
      "metadata": {
        "id": "gYdRzp6cmPA9"
      },
      "source": [
        "## Importing data, cleaning data and selecting only Metal artists"
      ]
    },
    {
      "cell_type": "code",
      "metadata": {
        "colab": {
          "base_uri": "https://localhost:8080/",
          "height": 365
        },
        "id": "ILEhXiPLmNWl",
        "outputId": "2d27ffaf-7621-45c0-8b5c-e7ba32c0a9ba"
      },
      "source": [
        "data = pd.read_csv('/content/drive/MyDrive/Proyectos DS/Album reviews/album_ratings.csv')\n",
        "data.head()"
      ],
      "execution_count": null,
      "outputs": [
        {
          "output_type": "execute_result",
          "data": {
            "text/html": [
              "<div>\n",
              "<style scoped>\n",
              "    .dataframe tbody tr th:only-of-type {\n",
              "        vertical-align: middle;\n",
              "    }\n",
              "\n",
              "    .dataframe tbody tr th {\n",
              "        vertical-align: top;\n",
              "    }\n",
              "\n",
              "    .dataframe thead th {\n",
              "        text-align: right;\n",
              "    }\n",
              "</style>\n",
              "<table border=\"1\" class=\"dataframe\">\n",
              "  <thead>\n",
              "    <tr style=\"text-align: right;\">\n",
              "      <th></th>\n",
              "      <th>Artist</th>\n",
              "      <th>Title</th>\n",
              "      <th>Release Month</th>\n",
              "      <th>Release Day</th>\n",
              "      <th>Release Year</th>\n",
              "      <th>Format</th>\n",
              "      <th>Label</th>\n",
              "      <th>Genre</th>\n",
              "      <th>Metacritic Critic Score</th>\n",
              "      <th>Metacritic Reviews</th>\n",
              "      <th>Metacritic User Score</th>\n",
              "      <th>Metacritic User Reviews</th>\n",
              "      <th>AOTY Critic Score</th>\n",
              "      <th>AOTY Critic Reviews</th>\n",
              "      <th>AOTY User Score</th>\n",
              "      <th>AOTY User Reviews</th>\n",
              "    </tr>\n",
              "  </thead>\n",
              "  <tbody>\n",
              "    <tr>\n",
              "      <th>0</th>\n",
              "      <td>Neko Case</td>\n",
              "      <td>Middle Cyclone</td>\n",
              "      <td>March</td>\n",
              "      <td>3</td>\n",
              "      <td>2009</td>\n",
              "      <td>LP</td>\n",
              "      <td>ANTI-</td>\n",
              "      <td>Alt-Country</td>\n",
              "      <td>79.0</td>\n",
              "      <td>31.0</td>\n",
              "      <td>8.7</td>\n",
              "      <td>31.0</td>\n",
              "      <td>79</td>\n",
              "      <td>25</td>\n",
              "      <td>78</td>\n",
              "      <td>55</td>\n",
              "    </tr>\n",
              "    <tr>\n",
              "      <th>1</th>\n",
              "      <td>Jason Isbell &amp; The 400 Unit</td>\n",
              "      <td>Jason Isbell &amp; The 400 Unit</td>\n",
              "      <td>February</td>\n",
              "      <td>17</td>\n",
              "      <td>2009</td>\n",
              "      <td>LP</td>\n",
              "      <td>Thirty Tigers</td>\n",
              "      <td>Country Rock</td>\n",
              "      <td>70.0</td>\n",
              "      <td>14.0</td>\n",
              "      <td>8.4</td>\n",
              "      <td>7.0</td>\n",
              "      <td>73</td>\n",
              "      <td>11</td>\n",
              "      <td>73</td>\n",
              "      <td>8</td>\n",
              "    </tr>\n",
              "    <tr>\n",
              "      <th>2</th>\n",
              "      <td>Animal Collective</td>\n",
              "      <td>Merriweather Post Pavilion</td>\n",
              "      <td>January</td>\n",
              "      <td>20</td>\n",
              "      <td>2009</td>\n",
              "      <td>LP</td>\n",
              "      <td>Domino</td>\n",
              "      <td>Psychedelic Pop</td>\n",
              "      <td>89.0</td>\n",
              "      <td>36.0</td>\n",
              "      <td>8.5</td>\n",
              "      <td>619.0</td>\n",
              "      <td>92</td>\n",
              "      <td>30</td>\n",
              "      <td>87</td>\n",
              "      <td>1335</td>\n",
              "    </tr>\n",
              "    <tr>\n",
              "      <th>3</th>\n",
              "      <td>Bruce Springsteen</td>\n",
              "      <td>Working on a Dream</td>\n",
              "      <td>January</td>\n",
              "      <td>27</td>\n",
              "      <td>2009</td>\n",
              "      <td>LP</td>\n",
              "      <td>Columbia Records</td>\n",
              "      <td>Rock</td>\n",
              "      <td>72.0</td>\n",
              "      <td>29.0</td>\n",
              "      <td>7.9</td>\n",
              "      <td>101.0</td>\n",
              "      <td>70</td>\n",
              "      <td>23</td>\n",
              "      <td>66</td>\n",
              "      <td>38</td>\n",
              "    </tr>\n",
              "    <tr>\n",
              "      <th>4</th>\n",
              "      <td>Andrew Bird</td>\n",
              "      <td>Noble Beast</td>\n",
              "      <td>January</td>\n",
              "      <td>20</td>\n",
              "      <td>2009</td>\n",
              "      <td>LP</td>\n",
              "      <td>Fat Possum</td>\n",
              "      <td>Singer-Songwriter</td>\n",
              "      <td>79.0</td>\n",
              "      <td>29.0</td>\n",
              "      <td>8.7</td>\n",
              "      <td>47.0</td>\n",
              "      <td>74</td>\n",
              "      <td>24</td>\n",
              "      <td>78</td>\n",
              "      <td>44</td>\n",
              "    </tr>\n",
              "  </tbody>\n",
              "</table>\n",
              "</div>"
            ],
            "text/plain": [
              "                        Artist                        Title Release Month  \\\n",
              "0                    Neko Case               Middle Cyclone         March   \n",
              "1  Jason Isbell & The 400 Unit  Jason Isbell & The 400 Unit      February   \n",
              "2            Animal Collective   Merriweather Post Pavilion       January   \n",
              "3            Bruce Springsteen           Working on a Dream       January   \n",
              "4                  Andrew Bird                  Noble Beast       January   \n",
              "\n",
              "  Release Day  Release Year Format             Label              Genre  \\\n",
              "0           3          2009     LP             ANTI-        Alt-Country   \n",
              "1          17          2009     LP     Thirty Tigers       Country Rock   \n",
              "2          20          2009     LP            Domino    Psychedelic Pop   \n",
              "3          27          2009     LP  Columbia Records               Rock   \n",
              "4          20          2009     LP        Fat Possum  Singer-Songwriter   \n",
              "\n",
              "   Metacritic Critic Score  Metacritic Reviews  Metacritic User Score  \\\n",
              "0                     79.0                31.0                    8.7   \n",
              "1                     70.0                14.0                    8.4   \n",
              "2                     89.0                36.0                    8.5   \n",
              "3                     72.0                29.0                    7.9   \n",
              "4                     79.0                29.0                    8.7   \n",
              "\n",
              "   Metacritic User Reviews  AOTY Critic Score  AOTY Critic Reviews  \\\n",
              "0                     31.0                 79                   25   \n",
              "1                      7.0                 73                   11   \n",
              "2                    619.0                 92                   30   \n",
              "3                    101.0                 70                   23   \n",
              "4                     47.0                 74                   24   \n",
              "\n",
              "   AOTY User Score  AOTY User Reviews  \n",
              "0               78                 55  \n",
              "1               73                  8  \n",
              "2               87               1335  \n",
              "3               66                 38  \n",
              "4               78                 44  "
            ]
          },
          "metadata": {
            "tags": []
          },
          "execution_count": 35
        }
      ]
    },
    {
      "cell_type": "code",
      "metadata": {
        "colab": {
          "base_uri": "https://localhost:8080/"
        },
        "id": "bi6Fi42FmXHJ",
        "outputId": "43b20926-f053-4e60-efa4-6048865aec47"
      },
      "source": [
        "data.isnull().sum()"
      ],
      "execution_count": null,
      "outputs": [
        {
          "output_type": "execute_result",
          "data": {
            "text/plain": [
              "Artist                         0\n",
              "Title                          1\n",
              "Release Month                589\n",
              "Release Day                  590\n",
              "Release Year                   0\n",
              "Format                         0\n",
              "Label                       3456\n",
              "Genre                       7960\n",
              "Metacritic Critic Score    18351\n",
              "Metacritic Reviews         18351\n",
              "Metacritic User Score      23159\n",
              "Metacritic User Reviews    21682\n",
              "AOTY Critic Score              0\n",
              "AOTY Critic Reviews            0\n",
              "AOTY User Score                0\n",
              "AOTY User Reviews              0\n",
              "dtype: int64"
            ]
          },
          "metadata": {
            "tags": []
          },
          "execution_count": 36
        }
      ]
    },
    {
      "cell_type": "markdown",
      "metadata": {
        "id": "WgRq01UPnfDT"
      },
      "source": [
        "<p align=\"justify\">\n",
        "There's a lot of NaN data, but the good thing is that most of the missing data can be filled using the AOTY columns. In the case of scores, I can use the mean score for the genre. In the case of Title, Release Month, Release Day, Label and Genre, I'm going to fill them using the word \"Unknown.\" Also, I'm going to transform the Metacritic User Score column because this column has a scale from zero to ten, while the other columns go from zero to 100.\n",
        "</p>"
      ]
    },
    {
      "cell_type": "code",
      "metadata": {
        "colab": {
          "base_uri": "https://localhost:8080/"
        },
        "id": "FDNpJvivmckr",
        "outputId": "b42ba77c-1f6f-4d16-bf8f-ea9bcdbb06e5"
      },
      "source": [
        "data['Metacritic User Score'] = data['Metacritic User Score'] * 10\n",
        "cols = ['Title', 'Release Month', 'Release Day', 'Label', 'Genre']\n",
        "for col in cols:\n",
        "    data[col].fillna('Unknown', inplace=True)\n",
        "    \n",
        "data.isnull().sum()"
      ],
      "execution_count": null,
      "outputs": [
        {
          "output_type": "execute_result",
          "data": {
            "text/plain": [
              "Artist                         0\n",
              "Title                          0\n",
              "Release Month                  0\n",
              "Release Day                    0\n",
              "Release Year                   0\n",
              "Format                         0\n",
              "Label                          0\n",
              "Genre                          0\n",
              "Metacritic Critic Score    18351\n",
              "Metacritic Reviews         18351\n",
              "Metacritic User Score      23159\n",
              "Metacritic User Reviews    21682\n",
              "AOTY Critic Score              0\n",
              "AOTY Critic Reviews            0\n",
              "AOTY User Score                0\n",
              "AOTY User Reviews              0\n",
              "dtype: int64"
            ]
          },
          "metadata": {
            "tags": []
          },
          "execution_count": 37
        }
      ]
    },
    {
      "cell_type": "markdown",
      "metadata": {
        "id": "uhtFfP8ronoL"
      },
      "source": [
        "Now let's fill the Metacritic columns using the mean values for each genre.\n"
      ]
    },
    {
      "cell_type": "code",
      "metadata": {
        "colab": {
          "base_uri": "https://localhost:8080/"
        },
        "id": "QfbOo50NoZHJ",
        "outputId": "db6b2b82-393b-434e-a8c1-1484a53e724d"
      },
      "source": [
        "columns = ['Metacritic Critic Score', 'Metacritic Reviews', 'Metacritic User Score', 'Metacritic User Reviews']\n",
        "for genre in data['Genre'].unique():\n",
        "    for col in columns:\n",
        "        value = round(data.loc[data['Genre'] == genre,  col].mean(), 0)\n",
        "        data.loc[(data['Genre'] == genre) &  (data[col].isna()), col] = value\n",
        "\n",
        "data.isnull().sum()"
      ],
      "execution_count": null,
      "outputs": [
        {
          "output_type": "execute_result",
          "data": {
            "text/plain": [
              "Artist                       0\n",
              "Title                        0\n",
              "Release Month                0\n",
              "Release Day                  0\n",
              "Release Year                 0\n",
              "Format                       0\n",
              "Label                        0\n",
              "Genre                        0\n",
              "Metacritic Critic Score    185\n",
              "Metacritic Reviews         185\n",
              "Metacritic User Score      296\n",
              "Metacritic User Reviews    263\n",
              "AOTY Critic Score            0\n",
              "AOTY Critic Reviews          0\n",
              "AOTY User Score              0\n",
              "AOTY User Reviews            0\n",
              "dtype: int64"
            ]
          },
          "metadata": {
            "tags": []
          },
          "execution_count": 38
        }
      ]
    },
    {
      "cell_type": "markdown",
      "metadata": {
        "id": "AMcynhdvo5t4"
      },
      "source": [
        "As I expected the columns still have NaN values which I'm going to fill using the AOTY columns."
      ]
    },
    {
      "cell_type": "code",
      "metadata": {
        "colab": {
          "base_uri": "https://localhost:8080/"
        },
        "id": "qxvbEPIio14G",
        "outputId": "edf8e91f-9765-4083-b454-d5a4cf1714cd"
      },
      "source": [
        "cols = [['Metacritic Critic Score', 'AOTY Critic Score'],\n",
        "        ['Metacritic Reviews', 'AOTY Critic Reviews'],\n",
        "        ['Metacritic User Score', 'AOTY User Score'],\n",
        "        ['Metacritic User Reviews', 'AOTY User Reviews']]\n",
        "\n",
        "for genre in data['Genre'].unique():\n",
        "    for col, x in cols:               \n",
        "        value = round(data.loc[data['Genre'] == genre,  x].mean(), 0)\n",
        "        data.loc[(data['Genre'] == genre) &  (data[col].isna()), col] = value\n",
        "\n",
        "data.isnull().sum()"
      ],
      "execution_count": null,
      "outputs": [
        {
          "output_type": "execute_result",
          "data": {
            "text/plain": [
              "Artist                     0\n",
              "Title                      0\n",
              "Release Month              0\n",
              "Release Day                0\n",
              "Release Year               0\n",
              "Format                     0\n",
              "Label                      0\n",
              "Genre                      0\n",
              "Metacritic Critic Score    0\n",
              "Metacritic Reviews         0\n",
              "Metacritic User Score      0\n",
              "Metacritic User Reviews    0\n",
              "AOTY Critic Score          0\n",
              "AOTY Critic Reviews        0\n",
              "AOTY User Score            0\n",
              "AOTY User Reviews          0\n",
              "dtype: int64"
            ]
          },
          "metadata": {
            "tags": []
          },
          "execution_count": 39
        }
      ]
    },
    {
      "cell_type": "markdown",
      "metadata": {
        "id": "n92jniBEsVbn"
      },
      "source": [
        "Now that the dataset doesn't have any NaN let's explore the Genre column to see if there are multiple Metal sub-genres so I can decide on how to select them."
      ]
    },
    {
      "cell_type": "code",
      "metadata": {
        "colab": {
          "base_uri": "https://localhost:8080/"
        },
        "id": "0e1H2Xw-p4Ih",
        "outputId": "2a5af412-0b82-4250-c95d-19c4c06e03d7"
      },
      "source": [
        "data.Genre.unique()"
      ],
      "execution_count": null,
      "outputs": [
        {
          "output_type": "execute_result",
          "data": {
            "text/plain": [
              "array(['Alt-Country', 'Country Rock', 'Psychedelic Pop', 'Rock',\n",
              "       'Singer-Songwriter', 'Indie Folk', 'Folk', 'Pop',\n",
              "       'Alternative Rock', 'Indie Rock', 'Indie Pop', 'Chamber Pop',\n",
              "       'Dream Pop', 'Progressive Metal', 'Blues Rock', 'Indietronica',\n",
              "       'Synthpop', 'Garage Rock', 'Big Beat', 'Ambient', 'Hip Hop',\n",
              "       'Pop Rock', 'Psychedelic Folk', 'Lo-Fi', 'Experimental',\n",
              "       'Electronic', 'Electropop', 'Techno', 'Freak Folk', 'Post-Punk',\n",
              "       'Art Pop', 'Glitch Hop', 'Electroclash', 'Punk Rock', 'Post-Metal',\n",
              "       'Minimal Techno', 'Psychedelic Rock', 'Neo-Psychedelia',\n",
              "       'Americana', 'Drone Metal', 'Progressive Pop', 'Pop Rap',\n",
              "       'Post-Hardcore', 'Progressive Rock', 'Post-Rock', 'Shoegaze',\n",
              "       'Noise Rock', 'Comedy', 'Unknown', 'Southern Rock',\n",
              "       'Experimental Rock', 'Art Rock', 'Jam Band', 'Garage Punk',\n",
              "       'Dubstep', 'Dance Punk', 'Math Rock', 'Country', 'Soul',\n",
              "       'Mathcore', 'Folk Rock', 'World', 'MPB', 'Neo-Soul', 'Britpop',\n",
              "       'Instrumental Hip Hop', 'Drone', 'Power Pop', 'Grime',\n",
              "       'Post-Punk Revival', 'Glitch', 'Funk Rock', 'Noise Pop', 'Jazz',\n",
              "       'R&B', 'Space Rock', 'Industrial Rock', 'Electro-Disco',\n",
              "       'Hard Rock', 'Heartland Rock', 'Folktronica', 'Wonky',\n",
              "       'Acoustic Rock', 'Hardcore Punk', 'Dancehall', 'Thrash Metal',\n",
              "       'Sludge Metal', 'Mashup', 'Dance Pop', 'Minimal', 'Chillwave',\n",
              "       'Alternative Dance', 'Trip Hop', 'Christmas', 'Metalcore', 'IDM',\n",
              "       'Funk', 'Pop Punk', 'Alternative Metal', 'Vocal Jazz', 'Reggae',\n",
              "       'Piano Rock', 'Avant-Folk', 'Microhouse', 'Celtic Punk',\n",
              "       'Stoner Metal', 'New Wave', 'Noise', 'Abstract Hip Hop',\n",
              "       'Electro House', 'Pop Soul', 'Heavy Metal', 'Psychedelic',\n",
              "       'Jangle Pop', 'Glam Rock', 'Doom Metal', 'Witch House',\n",
              "       'Sophisti-Pop ', 'Country Pop', 'Nu Metal', 'Alternative R&B',\n",
              "       'Bluegrass', 'Hypnagogic Pop', 'Punk', 'House', 'Ambient Pop',\n",
              "       'Folk Pop', 'Gothic Rock', 'Future Garage', 'Black Metal', 'Blues',\n",
              "       'Baroque Pop', 'Industrial', 'Downtempo', 'Dub Techno',\n",
              "       'Vaporwave', 'Footwork', 'Avant-Garde Jazz', 'Death Metal',\n",
              "       'Disco', 'Groove Metal', 'Deep House', 'Nu-Disco', 'Chamber Folk',\n",
              "       'Grunge', 'Neoclassical Darkwave', 'Krautrock', 'Electro',\n",
              "       'Afrobeat', 'Progressive House', 'Slowcore', 'Ska Punk',\n",
              "       'Free Improvisation', 'Acid Jazz', 'Juke', 'Musique concrÃ¨te',\n",
              "       'Grindcore', 'Synth Funk', 'Dark Ambient', 'New Age', 'Glitch Pop',\n",
              "       'Synthwave', 'Soft Rock', 'Sound Collage', 'Screamo', 'Twee Pop',\n",
              "       'Blackgaze', 'Melodic Death Metal', 'Industrial Metal', 'Emo',\n",
              "       'Avant-Garde Metal', 'Folk Metal', 'Gothic Metal',\n",
              "       'American Primitivism', 'Melodic Black Metal', 'Dance',\n",
              "       'Latin Pop', 'Post-Minimalism', 'Rock & Roll', 'Gospel',\n",
              "       'Roots Rock', 'Art Punk', 'Protopunk', 'Progressive Electronic',\n",
              "       'Stoner Rock', 'Metal', 'Roots Reggae', 'Folk Punk', 'Latin Rock',\n",
              "       'Jazz Fusion', 'Ska', 'Drum and Bass', 'Surf Rock', 'Rockabilly',\n",
              "       'No Wave', 'Classical', 'Turntablism', 'Electronica', 'Deathcore',\n",
              "       'Ambient Techno', 'Latin Alternative', 'Darkwave',\n",
              "       'Experimental Hip Hop', 'Modern Classical', 'Electro-Industrial',\n",
              "       'Crossover Thrash', 'Synth Punk', 'Boom Bap', 'Nu Jazz',\n",
              "       'Blue-eyed Soul', 'Horrorcore', 'Pop Reggae', 'Bossa Nova',\n",
              "       'Acid House', 'Standards', 'Melodic Hardcore', 'French Pop',\n",
              "       'Outsider House', 'Rap Rock', 'Tech House', 'Tishoumaren',\n",
              "       'UK Bass', 'Electroacoustic', 'Future Funk', 'Dub',\n",
              "       'Atmospheric Black Metal', 'Musical Parody', 'Trap', 'Psychobilly',\n",
              "       'Post-Grunge', 'Trap Rap', 'Glam Metal', 'Minimalism', 'AOR',\n",
              "       'Flamenco nuevo', 'Funk Metal', 'Neofolk', 'Psychedelic Soul',\n",
              "       'French House', 'Digital Hardcore', 'Symphonic Metal',\n",
              "       'TropicÃ¡lia', 'Power Metal', 'Traditional Pop',\n",
              "       'Death Industrial', 'Reggaeton', 'Adult Contemporary', 'YÃ©-yÃ©',\n",
              "       'K-Pop', 'UK Garage', 'Power Electronics', 'Afrobeats',\n",
              "       'Heavy Psych', 'Jazz-Rock', 'Yacht Rock', 'Plunderphonics',\n",
              "       'Soul Jazz', 'Field Recordings', 'Trance', 'Minimal Synth',\n",
              "       'Skate Punk', 'Sunshine Pop', 'UK Hip Hop', 'J-Pop',\n",
              "       'Ethereal Wave', 'Dungeon Synth', 'Post-Industrial', 'Comedy Rock',\n",
              "       'Acid Techno', 'EDM', 'Spoken Word', 'Minimal Wave', 'Rock Opera',\n",
              "       'City Pop', 'Ambient House', 'Djent', 'Deconstructed Club',\n",
              "       'Hardcore Breaks', 'Exotica', 'Industrial Techno', 'Hip House',\n",
              "       'Tribal Ambient', 'Dark Jazz', 'Jazz-Funk', 'Trap Metal',\n",
              "       'Future Bass', 'Bubblegum Bass', 'Country Soul', 'Khyal',\n",
              "       'Tropical House', 'Latin Electronic', 'Breakbeat', 'Cloud Rap',\n",
              "       'Classic Rock'], dtype=object)"
            ]
          },
          "metadata": {
            "tags": []
          },
          "execution_count": 40
        }
      ]
    },
    {
      "cell_type": "markdown",
      "metadata": {
        "id": "oAGL67QZpUiY"
      },
      "source": [
        "<p align=\"justify\">\n",
        "I see that there's a lot of metal sub-genres like Atmospheric Black Metal, Avant-garde Metal, Melodic Death Metal, Death Metal and so on. So the first thing I'm going to do is to replace the symbol '-' with a space, and then I'm going to use a regular expression to select the metal sub-genres in the Genre column.\n",
        "</p>"
      ]
    },
    {
      "cell_type": "code",
      "metadata": {
        "colab": {
          "base_uri": "https://localhost:8080/",
          "height": 400
        },
        "id": "5nXG3t8apN23",
        "outputId": "fcb678db-3615-47e0-eec1-104d5da46080"
      },
      "source": [
        "pattern = '(\\w*\\s)*(\\w*\\s)*Metal(\\w)*'\n",
        "data['Genre'] = data['Genre'].replace('-', ' ')\n",
        "metal = data[data['Genre'].str.match(pattern)].copy()\n",
        "metal.head()"
      ],
      "execution_count": null,
      "outputs": [
        {
          "output_type": "execute_result",
          "data": {
            "text/html": [
              "<div>\n",
              "<style scoped>\n",
              "    .dataframe tbody tr th:only-of-type {\n",
              "        vertical-align: middle;\n",
              "    }\n",
              "\n",
              "    .dataframe tbody tr th {\n",
              "        vertical-align: top;\n",
              "    }\n",
              "\n",
              "    .dataframe thead th {\n",
              "        text-align: right;\n",
              "    }\n",
              "</style>\n",
              "<table border=\"1\" class=\"dataframe\">\n",
              "  <thead>\n",
              "    <tr style=\"text-align: right;\">\n",
              "      <th></th>\n",
              "      <th>Artist</th>\n",
              "      <th>Title</th>\n",
              "      <th>Release Month</th>\n",
              "      <th>Release Day</th>\n",
              "      <th>Release Year</th>\n",
              "      <th>Format</th>\n",
              "      <th>Label</th>\n",
              "      <th>Genre</th>\n",
              "      <th>Metacritic Critic Score</th>\n",
              "      <th>Metacritic Reviews</th>\n",
              "      <th>Metacritic User Score</th>\n",
              "      <th>Metacritic User Reviews</th>\n",
              "      <th>AOTY Critic Score</th>\n",
              "      <th>AOTY Critic Reviews</th>\n",
              "      <th>AOTY User Score</th>\n",
              "      <th>AOTY User Reviews</th>\n",
              "    </tr>\n",
              "  </thead>\n",
              "  <tbody>\n",
              "    <tr>\n",
              "      <th>17</th>\n",
              "      <td>Mastodon</td>\n",
              "      <td>Crack The Skye</td>\n",
              "      <td>March</td>\n",
              "      <td>24</td>\n",
              "      <td>2009</td>\n",
              "      <td>LP</td>\n",
              "      <td>Reprise</td>\n",
              "      <td>Progressive Metal</td>\n",
              "      <td>82.0</td>\n",
              "      <td>29.0</td>\n",
              "      <td>89.0</td>\n",
              "      <td>184.0</td>\n",
              "      <td>81</td>\n",
              "      <td>23</td>\n",
              "      <td>84</td>\n",
              "      <td>194</td>\n",
              "    </tr>\n",
              "    <tr>\n",
              "      <th>117</th>\n",
              "      <td>Sunn O)))</td>\n",
              "      <td>Monoliths and Dimensions</td>\n",
              "      <td>May</td>\n",
              "      <td>26</td>\n",
              "      <td>2009</td>\n",
              "      <td>LP</td>\n",
              "      <td>Southern Lord</td>\n",
              "      <td>Drone Metal</td>\n",
              "      <td>88.0</td>\n",
              "      <td>16.0</td>\n",
              "      <td>68.0</td>\n",
              "      <td>90.0</td>\n",
              "      <td>86</td>\n",
              "      <td>13</td>\n",
              "      <td>82</td>\n",
              "      <td>148</td>\n",
              "    </tr>\n",
              "    <tr>\n",
              "      <th>600</th>\n",
              "      <td>Metallica</td>\n",
              "      <td>Death Magnetic</td>\n",
              "      <td>September</td>\n",
              "      <td>12</td>\n",
              "      <td>2008</td>\n",
              "      <td>LP</td>\n",
              "      <td>Warner Bros., Vertig</td>\n",
              "      <td>Thrash Metal</td>\n",
              "      <td>78.0</td>\n",
              "      <td>27.0</td>\n",
              "      <td>79.0</td>\n",
              "      <td>692.0</td>\n",
              "      <td>76</td>\n",
              "      <td>17</td>\n",
              "      <td>63</td>\n",
              "      <td>278</td>\n",
              "    </tr>\n",
              "    <tr>\n",
              "      <th>611</th>\n",
              "      <td>Torche</td>\n",
              "      <td>Meanderthal</td>\n",
              "      <td>April</td>\n",
              "      <td>8</td>\n",
              "      <td>2008</td>\n",
              "      <td>LP</td>\n",
              "      <td>Hydra Head Records</td>\n",
              "      <td>Sludge Metal</td>\n",
              "      <td>78.0</td>\n",
              "      <td>11.0</td>\n",
              "      <td>79.0</td>\n",
              "      <td>12.0</td>\n",
              "      <td>82</td>\n",
              "      <td>6</td>\n",
              "      <td>78</td>\n",
              "      <td>15</td>\n",
              "    </tr>\n",
              "    <tr>\n",
              "      <th>670</th>\n",
              "      <td>Protest The Hero</td>\n",
              "      <td>Fortress</td>\n",
              "      <td>January</td>\n",
              "      <td>29</td>\n",
              "      <td>2008</td>\n",
              "      <td>LP</td>\n",
              "      <td>Unknown</td>\n",
              "      <td>Progressive Metal</td>\n",
              "      <td>86.0</td>\n",
              "      <td>7.0</td>\n",
              "      <td>77.0</td>\n",
              "      <td>140.0</td>\n",
              "      <td>81</td>\n",
              "      <td>7</td>\n",
              "      <td>81</td>\n",
              "      <td>41</td>\n",
              "    </tr>\n",
              "  </tbody>\n",
              "</table>\n",
              "</div>"
            ],
            "text/plain": [
              "               Artist                     Title Release Month Release Day  \\\n",
              "17           Mastodon            Crack The Skye         March          24   \n",
              "117         Sunn O)))  Monoliths and Dimensions           May          26   \n",
              "600         Metallica            Death Magnetic     September          12   \n",
              "611            Torche               Meanderthal         April           8   \n",
              "670  Protest The Hero                  Fortress       January          29   \n",
              "\n",
              "     Release Year Format                 Label              Genre  \\\n",
              "17           2009     LP               Reprise  Progressive Metal   \n",
              "117          2009     LP         Southern Lord        Drone Metal   \n",
              "600          2008     LP  Warner Bros., Vertig       Thrash Metal   \n",
              "611          2008     LP    Hydra Head Records       Sludge Metal   \n",
              "670          2008     LP               Unknown  Progressive Metal   \n",
              "\n",
              "     Metacritic Critic Score  Metacritic Reviews  Metacritic User Score  \\\n",
              "17                      82.0                29.0                   89.0   \n",
              "117                     88.0                16.0                   68.0   \n",
              "600                     78.0                27.0                   79.0   \n",
              "611                     78.0                11.0                   79.0   \n",
              "670                     86.0                 7.0                   77.0   \n",
              "\n",
              "     Metacritic User Reviews  AOTY Critic Score  AOTY Critic Reviews  \\\n",
              "17                     184.0                 81                   23   \n",
              "117                     90.0                 86                   13   \n",
              "600                    692.0                 76                   17   \n",
              "611                     12.0                 82                    6   \n",
              "670                    140.0                 81                    7   \n",
              "\n",
              "     AOTY User Score  AOTY User Reviews  \n",
              "17                84                194  \n",
              "117               82                148  \n",
              "600               63                278  \n",
              "611               78                 15  \n",
              "670               81                 41  "
            ]
          },
          "metadata": {
            "tags": []
          },
          "execution_count": 41
        }
      ]
    },
    {
      "cell_type": "markdown",
      "metadata": {
        "id": "sB8QRljavWM1"
      },
      "source": [
        "Let's see if there's any value that needs to be corrected before the start of the EDA."
      ]
    },
    {
      "cell_type": "code",
      "metadata": {
        "colab": {
          "base_uri": "https://localhost:8080/",
          "height": 318
        },
        "id": "V5_EpINvwRhy",
        "outputId": "5ac757a5-70df-40bf-fa01-e713418a0398"
      },
      "source": [
        "metal.describe()"
      ],
      "execution_count": null,
      "outputs": [
        {
          "output_type": "execute_result",
          "data": {
            "text/html": [
              "<div>\n",
              "<style scoped>\n",
              "    .dataframe tbody tr th:only-of-type {\n",
              "        vertical-align: middle;\n",
              "    }\n",
              "\n",
              "    .dataframe tbody tr th {\n",
              "        vertical-align: top;\n",
              "    }\n",
              "\n",
              "    .dataframe thead th {\n",
              "        text-align: right;\n",
              "    }\n",
              "</style>\n",
              "<table border=\"1\" class=\"dataframe\">\n",
              "  <thead>\n",
              "    <tr style=\"text-align: right;\">\n",
              "      <th></th>\n",
              "      <th>Release Year</th>\n",
              "      <th>Metacritic Critic Score</th>\n",
              "      <th>Metacritic Reviews</th>\n",
              "      <th>Metacritic User Score</th>\n",
              "      <th>Metacritic User Reviews</th>\n",
              "      <th>AOTY Critic Score</th>\n",
              "      <th>AOTY Critic Reviews</th>\n",
              "      <th>AOTY User Score</th>\n",
              "      <th>AOTY User Reviews</th>\n",
              "    </tr>\n",
              "  </thead>\n",
              "  <tbody>\n",
              "    <tr>\n",
              "      <th>count</th>\n",
              "      <td>1830.000000</td>\n",
              "      <td>1830.000000</td>\n",
              "      <td>1830.000000</td>\n",
              "      <td>1830.000000</td>\n",
              "      <td>1830.000000</td>\n",
              "      <td>1830.000000</td>\n",
              "      <td>1830.000000</td>\n",
              "      <td>1830.000000</td>\n",
              "      <td>1830.000000</td>\n",
              "    </tr>\n",
              "    <tr>\n",
              "      <th>mean</th>\n",
              "      <td>2006.707104</td>\n",
              "      <td>75.533333</td>\n",
              "      <td>8.410383</td>\n",
              "      <td>79.283060</td>\n",
              "      <td>47.642077</td>\n",
              "      <td>73.866120</td>\n",
              "      <td>3.438798</td>\n",
              "      <td>72.749727</td>\n",
              "      <td>42.215847</td>\n",
              "    </tr>\n",
              "    <tr>\n",
              "      <th>std</th>\n",
              "      <td>11.044099</td>\n",
              "      <td>5.902315</td>\n",
              "      <td>3.291622</td>\n",
              "      <td>5.009634</td>\n",
              "      <td>53.404706</td>\n",
              "      <td>12.311836</td>\n",
              "      <td>3.540799</td>\n",
              "      <td>9.448817</td>\n",
              "      <td>84.379035</td>\n",
              "    </tr>\n",
              "    <tr>\n",
              "      <th>min</th>\n",
              "      <td>1970.000000</td>\n",
              "      <td>33.000000</td>\n",
              "      <td>1.000000</td>\n",
              "      <td>25.000000</td>\n",
              "      <td>4.000000</td>\n",
              "      <td>20.000000</td>\n",
              "      <td>1.000000</td>\n",
              "      <td>18.000000</td>\n",
              "      <td>1.000000</td>\n",
              "    </tr>\n",
              "    <tr>\n",
              "      <th>25%</th>\n",
              "      <td>1999.000000</td>\n",
              "      <td>73.000000</td>\n",
              "      <td>6.000000</td>\n",
              "      <td>77.000000</td>\n",
              "      <td>14.000000</td>\n",
              "      <td>68.000000</td>\n",
              "      <td>1.000000</td>\n",
              "      <td>69.000000</td>\n",
              "      <td>9.000000</td>\n",
              "    </tr>\n",
              "    <tr>\n",
              "      <th>50%</th>\n",
              "      <td>2010.000000</td>\n",
              "      <td>76.000000</td>\n",
              "      <td>8.000000</td>\n",
              "      <td>80.000000</td>\n",
              "      <td>29.000000</td>\n",
              "      <td>76.000000</td>\n",
              "      <td>2.000000</td>\n",
              "      <td>75.000000</td>\n",
              "      <td>17.000000</td>\n",
              "    </tr>\n",
              "    <tr>\n",
              "      <th>75%</th>\n",
              "      <td>2016.000000</td>\n",
              "      <td>80.000000</td>\n",
              "      <td>10.000000</td>\n",
              "      <td>82.000000</td>\n",
              "      <td>76.000000</td>\n",
              "      <td>80.000000</td>\n",
              "      <td>4.000000</td>\n",
              "      <td>79.000000</td>\n",
              "      <td>38.000000</td>\n",
              "    </tr>\n",
              "    <tr>\n",
              "      <th>max</th>\n",
              "      <td>2020.000000</td>\n",
              "      <td>95.000000</td>\n",
              "      <td>32.000000</td>\n",
              "      <td>91.000000</td>\n",
              "      <td>709.000000</td>\n",
              "      <td>100.000000</td>\n",
              "      <td>28.000000</td>\n",
              "      <td>89.000000</td>\n",
              "      <td>1390.000000</td>\n",
              "    </tr>\n",
              "  </tbody>\n",
              "</table>\n",
              "</div>"
            ],
            "text/plain": [
              "       Release Year  Metacritic Critic Score  Metacritic Reviews  \\\n",
              "count   1830.000000              1830.000000         1830.000000   \n",
              "mean    2006.707104                75.533333            8.410383   \n",
              "std       11.044099                 5.902315            3.291622   \n",
              "min     1970.000000                33.000000            1.000000   \n",
              "25%     1999.000000                73.000000            6.000000   \n",
              "50%     2010.000000                76.000000            8.000000   \n",
              "75%     2016.000000                80.000000           10.000000   \n",
              "max     2020.000000                95.000000           32.000000   \n",
              "\n",
              "       Metacritic User Score  Metacritic User Reviews  AOTY Critic Score  \\\n",
              "count            1830.000000              1830.000000        1830.000000   \n",
              "mean               79.283060                47.642077          73.866120   \n",
              "std                 5.009634                53.404706          12.311836   \n",
              "min                25.000000                 4.000000          20.000000   \n",
              "25%                77.000000                14.000000          68.000000   \n",
              "50%                80.000000                29.000000          76.000000   \n",
              "75%                82.000000                76.000000          80.000000   \n",
              "max                91.000000               709.000000         100.000000   \n",
              "\n",
              "       AOTY Critic Reviews  AOTY User Score  AOTY User Reviews  \n",
              "count          1830.000000      1830.000000        1830.000000  \n",
              "mean              3.438798        72.749727          42.215847  \n",
              "std               3.540799         9.448817          84.379035  \n",
              "min               1.000000        18.000000           1.000000  \n",
              "25%               1.000000        69.000000           9.000000  \n",
              "50%               2.000000        75.000000          17.000000  \n",
              "75%               4.000000        79.000000          38.000000  \n",
              "max              28.000000        89.000000        1390.000000  "
            ]
          },
          "metadata": {
            "tags": []
          },
          "execution_count": 42
        }
      ]
    },
    {
      "cell_type": "markdown",
      "metadata": {
        "id": "bCYXH0rr34zm"
      },
      "source": [
        "I don't see anything that needs correction or outliers that I need to review. So let's calculate the mean value for critics and users scores and the sum of the number of reviews."
      ]
    },
    {
      "cell_type": "code",
      "metadata": {
        "colab": {
          "base_uri": "https://localhost:8080/",
          "height": 310
        },
        "id": "9Rxmkgmq3heK",
        "outputId": "58e02acc-8987-483d-d660-f2cc8263497c"
      },
      "source": [
        "metal['Critic Score'] = round(metal[['Metacritic Critic Score', 'AOTY Critic Score']].mean(axis=1), 0)\n",
        "metal['Critic Reviews'] = round(metal[['Metacritic Reviews', 'AOTY Critic Reviews']].sum(axis=1), 0)\n",
        "metal['User Score'] = round(metal[['Metacritic User Score', 'AOTY User Score']].mean(axis=1), 0)\n",
        "metal['User Reviews'] = round(metal[['Metacritic User Reviews', 'AOTY User Reviews']].sum(axis=1), 0)\n",
        "\n",
        "metal_clean = metal[['Artist', 'Title', 'Release Month', 'Release Day', 'Release Year', 'Format',\n",
        "              'Label', 'Genre', 'Critic Score', 'Critic Reviews', 'User Score', 'User Reviews']].copy()\n",
        "\n",
        "metal_clean.head()"
      ],
      "execution_count": null,
      "outputs": [
        {
          "output_type": "execute_result",
          "data": {
            "text/html": [
              "<div>\n",
              "<style scoped>\n",
              "    .dataframe tbody tr th:only-of-type {\n",
              "        vertical-align: middle;\n",
              "    }\n",
              "\n",
              "    .dataframe tbody tr th {\n",
              "        vertical-align: top;\n",
              "    }\n",
              "\n",
              "    .dataframe thead th {\n",
              "        text-align: right;\n",
              "    }\n",
              "</style>\n",
              "<table border=\"1\" class=\"dataframe\">\n",
              "  <thead>\n",
              "    <tr style=\"text-align: right;\">\n",
              "      <th></th>\n",
              "      <th>Artist</th>\n",
              "      <th>Title</th>\n",
              "      <th>Release Month</th>\n",
              "      <th>Release Day</th>\n",
              "      <th>Release Year</th>\n",
              "      <th>Format</th>\n",
              "      <th>Label</th>\n",
              "      <th>Genre</th>\n",
              "      <th>Critic Score</th>\n",
              "      <th>Critic Reviews</th>\n",
              "      <th>User Score</th>\n",
              "      <th>User Reviews</th>\n",
              "    </tr>\n",
              "  </thead>\n",
              "  <tbody>\n",
              "    <tr>\n",
              "      <th>17</th>\n",
              "      <td>Mastodon</td>\n",
              "      <td>Crack The Skye</td>\n",
              "      <td>March</td>\n",
              "      <td>24</td>\n",
              "      <td>2009</td>\n",
              "      <td>LP</td>\n",
              "      <td>Reprise</td>\n",
              "      <td>Progressive Metal</td>\n",
              "      <td>82.0</td>\n",
              "      <td>52.0</td>\n",
              "      <td>86.0</td>\n",
              "      <td>378.0</td>\n",
              "    </tr>\n",
              "    <tr>\n",
              "      <th>117</th>\n",
              "      <td>Sunn O)))</td>\n",
              "      <td>Monoliths and Dimensions</td>\n",
              "      <td>May</td>\n",
              "      <td>26</td>\n",
              "      <td>2009</td>\n",
              "      <td>LP</td>\n",
              "      <td>Southern Lord</td>\n",
              "      <td>Drone Metal</td>\n",
              "      <td>87.0</td>\n",
              "      <td>29.0</td>\n",
              "      <td>75.0</td>\n",
              "      <td>238.0</td>\n",
              "    </tr>\n",
              "    <tr>\n",
              "      <th>600</th>\n",
              "      <td>Metallica</td>\n",
              "      <td>Death Magnetic</td>\n",
              "      <td>September</td>\n",
              "      <td>12</td>\n",
              "      <td>2008</td>\n",
              "      <td>LP</td>\n",
              "      <td>Warner Bros., Vertig</td>\n",
              "      <td>Thrash Metal</td>\n",
              "      <td>77.0</td>\n",
              "      <td>44.0</td>\n",
              "      <td>71.0</td>\n",
              "      <td>970.0</td>\n",
              "    </tr>\n",
              "    <tr>\n",
              "      <th>611</th>\n",
              "      <td>Torche</td>\n",
              "      <td>Meanderthal</td>\n",
              "      <td>April</td>\n",
              "      <td>8</td>\n",
              "      <td>2008</td>\n",
              "      <td>LP</td>\n",
              "      <td>Hydra Head Records</td>\n",
              "      <td>Sludge Metal</td>\n",
              "      <td>80.0</td>\n",
              "      <td>17.0</td>\n",
              "      <td>78.0</td>\n",
              "      <td>27.0</td>\n",
              "    </tr>\n",
              "    <tr>\n",
              "      <th>670</th>\n",
              "      <td>Protest The Hero</td>\n",
              "      <td>Fortress</td>\n",
              "      <td>January</td>\n",
              "      <td>29</td>\n",
              "      <td>2008</td>\n",
              "      <td>LP</td>\n",
              "      <td>Unknown</td>\n",
              "      <td>Progressive Metal</td>\n",
              "      <td>84.0</td>\n",
              "      <td>14.0</td>\n",
              "      <td>79.0</td>\n",
              "      <td>181.0</td>\n",
              "    </tr>\n",
              "  </tbody>\n",
              "</table>\n",
              "</div>"
            ],
            "text/plain": [
              "               Artist                     Title Release Month Release Day  \\\n",
              "17           Mastodon            Crack The Skye         March          24   \n",
              "117         Sunn O)))  Monoliths and Dimensions           May          26   \n",
              "600         Metallica            Death Magnetic     September          12   \n",
              "611            Torche               Meanderthal         April           8   \n",
              "670  Protest The Hero                  Fortress       January          29   \n",
              "\n",
              "     Release Year Format                 Label              Genre  \\\n",
              "17           2009     LP               Reprise  Progressive Metal   \n",
              "117          2009     LP         Southern Lord        Drone Metal   \n",
              "600          2008     LP  Warner Bros., Vertig       Thrash Metal   \n",
              "611          2008     LP    Hydra Head Records       Sludge Metal   \n",
              "670          2008     LP               Unknown  Progressive Metal   \n",
              "\n",
              "     Critic Score  Critic Reviews  User Score  User Reviews  \n",
              "17           82.0            52.0        86.0         378.0  \n",
              "117          87.0            29.0        75.0         238.0  \n",
              "600          77.0            44.0        71.0         970.0  \n",
              "611          80.0            17.0        78.0          27.0  \n",
              "670          84.0            14.0        79.0         181.0  "
            ]
          },
          "metadata": {
            "tags": []
          },
          "execution_count": 43
        }
      ]
    },
    {
      "cell_type": "markdown",
      "metadata": {
        "id": "cjvE9N8bxXhL"
      },
      "source": [
        "## Of the metal subgenres, which are the genres with the most number of albums in the data series?"
      ]
    },
    {
      "cell_type": "code",
      "metadata": {
        "colab": {
          "base_uri": "https://localhost:8080/",
          "height": 531
        },
        "id": "UyYMtRTgqwZy",
        "outputId": "25747957-9001-4639-8c68-77d9ed17e6b5"
      },
      "source": [
        "counts = metal_clean.Genre.value_counts().reset_index()\n",
        "fig = plt.figure(figsize=(10,8))\n",
        "sns.barplot(x='Genre', y='index', data=counts)\n",
        "plt.title('Number of albums per genre')\n",
        "plt.xlabel('Number of albums')\n",
        "plt.ylabel('')"
      ],
      "execution_count": null,
      "outputs": [
        {
          "output_type": "execute_result",
          "data": {
            "text/plain": [
              "Text(0, 0.5, '')"
            ]
          },
          "metadata": {
            "tags": []
          },
          "execution_count": 44
        },
        {
          "output_type": "display_data",
          "data": {
            "image/png": "[encoded data removed]",
            "text/plain": [
              "<Figure size 720x576 with 1 Axes>"
            ]
          },
          "metadata": {
            "tags": [],
            "needs_background": "light"
          }
        }
      ]
    },
    {
      "cell_type": "markdown",
      "metadata": {
        "id": "au99s4iMzIOq"
      },
      "source": [
        "<p align=\"justify\">\n",
        "The plot shows the number of albums per genre in the data set. Looks like the subgenre with the most number of albums is Death Metal, followed by Progressive Metal and Heavy Metal. It's interesting that five of the most extreme metal subgenres (Death, Melodic Death, Black, Doom metal and Metalcore) are inside the top 10. It's not a surprise that subgenres like Heavy, Progressive and Thrash metal are in the top 10, they are probably the most popular metal subgenres. It surprises me that Power Metal is outside the top 10. It also surprises me a lot that Symphonic Metal has less than 20 albums in this dataset when this subgenre is one of the most popular and one the genres that produces many records each year. It's also interesting Glam Metal has less than 50 records in this data set when it was the most popular genre in the 80s.\n",
        "\n",
        "## What are the most acclaimed albums of each of the year by the users?"
      ]
    },
    {
      "cell_type": "code",
      "metadata": {
        "colab": {
          "base_uri": "https://localhost:8080/"
        },
        "id": "7R6sm89Duk3L",
        "outputId": "fe0095d7-7acc-480d-c94c-372a9ad86af7"
      },
      "source": [
        "years = [i for i in range(1970, 2021)]\n",
        "for year in years:\n",
        "    data_year = metal_clean[metal_clean['Release Year'] == year]\n",
        "    score = data_year['User Score'].max()\n",
        "    secondary_df = data_year[data_year['User Score'] == score]\n",
        "    artist = secondary_df['Artist'].tolist()\n",
        "    album = secondary_df['Title'].tolist()\n",
        "    for i in range(0, len(artist)):\n",
        "        print('{}: \"{}\" by {}'.format(year, album[i], artist[i].upper()))\n",
        "        print('-'*20)"
      ],
      "execution_count": null,
      "outputs": [
        {
          "output_type": "stream",
          "text": [
            "1970: \"Paranoid\" by BLACK SABBATH\n",
            "--------------------\n",
            "1971: \"Master of Reality\" by BLACK SABBATH\n",
            "--------------------\n",
            "1972: \"Black Sabbath Vol. 4\" by BLACK SABBATH\n",
            "--------------------\n",
            "1973: \"Sabbath Bloody Sabbath\" by BLACK SABBATH\n",
            "--------------------\n",
            "1975: \"Sabotage\" by BLACK SABBATH\n",
            "--------------------\n",
            "1976: \"Sad Wings of Destiny\" by JUDAS PRIEST\n",
            "--------------------\n",
            "1977: \"Sin After Sin\" by JUDAS PRIEST\n",
            "--------------------\n",
            "1978: \"Stained Class\" by JUDAS PRIEST\n",
            "--------------------\n",
            "1979: \"Overkill\" by MOTÃ¶RHEAD\n",
            "--------------------\n",
            "1980: \"Ace of Spades\" by MOTÃ¶RHEAD\n",
            "--------------------\n",
            "1981: \"Welcome to Hell\" by VENOM\n",
            "--------------------\n",
            "1982: \"The Number of the Beast\" by IRON MAIDEN\n",
            "--------------------\n",
            "1983: \"Kill 'Em All\" by METALLICA\n",
            "--------------------\n",
            "1983: \"Piece of Mind\" by IRON MAIDEN\n",
            "--------------------\n",
            "1984: \"Ride the Lightning\" by METALLICA\n",
            "--------------------\n",
            "1985: \"To Mega Therion\" by CELTIC FROST\n",
            "--------------------\n",
            "1985: \"Seven Churches\" by POSSESSED\n",
            "--------------------\n",
            "1986: \"Master of Puppets\" by METALLICA\n",
            "--------------------\n",
            "1987: \"Into the Pandemonium\" by CELTIC FROST\n",
            "--------------------\n",
            "1987: \"Killing Technology\" by VOIVOD\n",
            "--------------------\n",
            "1987: \"Scream Bloody Gore\" by DEATH\n",
            "--------------------\n",
            "1987: \"Keeper of the Seven Keys: Part I\" by HELLOWEEN\n",
            "--------------------\n",
            "1988: \"...And Justice for All\" by METALLICA\n",
            "--------------------\n",
            "1989: \"Perfect Symmetry\" by FATES WARNING\n",
            "--------------------\n",
            "1989: \"Piece of Time\" by ATHEIST\n",
            "--------------------\n",
            "1989: \"Consuming Impulse\" by PESTILENCE\n",
            "--------------------\n",
            "1990: \"Left Hand Path\" by ENTOMBED\n",
            "--------------------\n",
            "1990: \"Deicide\" by DEICIDE\n",
            "--------------------\n",
            "1990: \"The Key\" by NOCTURNUS\n",
            "--------------------\n",
            "1991: \"Human\" by DEATH\n",
            "--------------------\n",
            "1991: \"Like an Ever Flowing Stream\" by DISMEMBER\n",
            "--------------------\n",
            "1991: \"The Ten Commandments\" by MALEVOLENT CREATION\n",
            "--------------------\n",
            "1991: \"Effigy of the Forgotten\" by SUFFOCATION\n",
            "--------------------\n",
            "1992: \"Rage Against The Machine\" by RAGE AGAINST THE MACHINE\n",
            "--------------------\n",
            "1993: \"Wolverine Blues\" by ENTOMBED\n",
            "--------------------\n",
            "1993: \"Individual Thought Patterns\" by DEATH\n",
            "--------------------\n",
            "1993: \"Covenant\" by MORBID ANGEL\n",
            "--------------------\n",
            "1994: \"Blasphemy Made Flesh\" by CRYPTOPSY\n",
            "--------------------\n",
            "1995: \"Symbolic\" by DEATH\n",
            "--------------------\n",
            "1996: \"None So Vile\" by CRYPTOPSY\n",
            "--------------------\n",
            "1997: \"Whoracle\" by IN FLAMES\n",
            "--------------------\n",
            "1997: \"Serpents of the Light\" by DEICIDE\n",
            "--------------------\n",
            "1998: \"The Sound of Perseverance\" by DEATH\n",
            "--------------------\n",
            "1999: \"Still Life\" by OPETH\n",
            "--------------------\n",
            "2000: \"White Pony\" by DEFTONES\n",
            "--------------------\n",
            "2001: \"Toxicity\" by SYSTEM OF A DOWN\n",
            "--------------------\n",
            "2001: \"Lateralus\" by TOOL\n",
            "--------------------\n",
            "2002: \"Damage Done\" by DARK TRANQUILLITY\n",
            "--------------------\n",
            "2003: \"Dopesmoker\" by SLEEP\n",
            "--------------------\n",
            "2004: \"Demigod\" by BEHEMOTH\n",
            "--------------------\n",
            "2005: \"Ghost Reveries\" by OPETH\n",
            "--------------------\n",
            "2005: \"From Mars to Sirius\" by GOJIRA\n",
            "--------------------\n",
            "2005: \"Nightmares Made Flesh\" by BLOODBATH\n",
            "--------------------\n",
            "2005: \"The Art of War\" by VADER\n",
            "--------------------\n",
            "2005: \"Those Once Loyal\" by BOLT THROWER\n",
            "--------------------\n",
            "2005: \"The Black Halo\" by KAMELOT\n",
            "--------------------\n",
            "2006: \"Blood Mountain\" by MASTODON\n",
            "--------------------\n",
            "2007: \"Outre\" by PORTAL\n",
            "--------------------\n",
            "2008: \"obZen\" by MESHUGGAH\n",
            "--------------------\n",
            "2008: \"The Way of All Flesh\" by GOJIRA\n",
            "--------------------\n",
            "2008: \"Shogun\" by TRIVIUM\n",
            "--------------------\n",
            "2009: \"Crack The Skye\" by MASTODON\n",
            "--------------------\n",
            "2009: \"Axe To Fall\" by CONVERGE\n",
            "--------------------\n",
            "2010: \"Diamond Eyes\" by DEFTONES\n",
            "--------------------\n",
            "2011: \"Unto the Locust\" by MACHINE HEAD\n",
            "--------------------\n",
            "2011: \"Mammal\" by ALTAR OF PLAGUES\n",
            "--------------------\n",
            "2011: \"Dum Spiro Spero\" by DIR EN GREY\n",
            "--------------------\n",
            "2011: \"The Great Mass\" by SEPTICFLESH\n",
            "--------------------\n",
            "2012: \"L'Enfant Sauvage\" by GOJIRA\n",
            "--------------------\n",
            "2013: \"Colored Sands\" by GORGUTS\n",
            "--------------------\n",
            "2013: \"The Difference Between Hell and Home\" by COUNTERPARTS\n",
            "--------------------\n",
            "2014: \"The Satanist\" by BEHEMOTH\n",
            "--------------------\n",
            "2014: \"Earthborn Evolution\" by BEYOND CREATION\n",
            "--------------------\n",
            "2014: \"The Wreckage of Stars\" by BLACK CROWN INITIATE\n",
            "--------------------\n",
            "2015: \"New Bermuda\" by DEAFHEAVEN\n",
            "--------------------\n",
            "2016: \"All Our Gods Have Abandoned Us\" by ARCHITECTS\n",
            "--------------------\n",
            "2017: \"Urn\" by NE OBLIVISCARIS\n",
            "--------------------\n",
            "2018: \"Idol\" by HORRENDOUS\n",
            "--------------------\n",
            "2018: \"Holy Hell\" by ARCHITECTS\n",
            "--------------------\n",
            "2019: \"Ageless Fire\" by VANUM\n",
            "--------------------\n",
            "2019: \"Damp Chill of Life\" by NONE\n",
            "--------------------\n",
            "2019: \"Infest the Rats' Nest\" by KING GIZZARD AND THE LIZARD WIZARD\n",
            "--------------------\n",
            "2020: \"What The Dead Men Say\" by TRIVIUM\n",
            "--------------------\n",
            "2020: \"Ohms\" by DEFTONES\n",
            "--------------------\n"
          ],
          "name": "stdout"
        }
      ]
    },
    {
      "cell_type": "markdown",
      "metadata": {
        "id": "TDlpb2JaEBOv"
      },
      "source": [
        "<p align=\"Justify\">\n",
        "It's not surprise that Black Sabbath had the best metal album from 1970 to 1975 as it's considered as the first heavy metal band. What I, personally, find interesting is that five of the biggest metal bands from UK (Black Sabbath, Judas Priest, Mötorhead, Iron Maiden, Venom) dominated from 1970 to 1982, In 1983 Metallica appeared in the market with the album \"Kill 'em All\", actually their first four albums are in the list, \"Ride The Lightning\" (1984), \"Master of Puppets\" (1986) and \"...And Justice for All\" (1988). Also, the 80s had nine albums made by artists from the US. In 1982 there was a tie between Metallica's \"Kill 'em All\" and Iron Maiden's \"Peace of Mind.\" The 80s were dominated by Heavy and Thrash Metal.\n",
        "\n",
        "<p align=\"Justify\">\n",
        "The 90s were dominated by Death Metal, especially from the US, but there was bands from Sweden like Entombed, Dismember and In Flames. In the 90s another really popular genre (with too many controversies on their backs) was Black Metal, short story there was this group called Inner Circle where members from Mayhem, Burzum, Emperor, Darkthrone, Immortal and Enslaved, burned 52 churches across Norway between 1992 and 1998.\n",
        "\n",
        "<p align=\"Justify\">\n",
        "It's awesome to see Rage Against The Machine with their homonymous album in 1992. This band is one of the best bands ever, they made a fusion between metal, funk and hip hop and their lyrics are against capitalism, globalization and war (Some radio stations banned them after 9/11 for being \"anti-patriots.\") It's also considered as the most famous protest band in the US.\n",
        "\n",
        "<p align=\"Justify\">\n",
        "The 2000s started really great with Deftones and System of a Down taking the best album of 2000 and 2001. Behemoth's \"Demigod\" took the first spot at 2004. Opeth joined the list of artists that had more than one album in the list in 2005. The only Symphonic Metal group so far in the list was Kamelot with \"The Black Halo\" in 2005. Gojira appears twice in the first decade of the 2000s, first in 2005 with \"From Mars to Sirius\" and in 2008 with \"The Way All Flesh. \"Mastodon also had two records here one in 2006 and the other in 2009. The first decade of the 2000s was dominated by Death Metal and a little bit of Nu Metal.\n",
        "\n",
        "<p align=\"Justify\">\n",
        "From 2010 to 2020, Death Metal groups took the first spots on multiple years. A good surprise is Dir En Grey's \"Dum Spiro Spero.\" It's the first and only Japanese band on the list, and the band has influence from Death, Progressive, Avant-garde and Goth Metal.\n",
        "\n",
        "</p>\n"
      ]
    },
    {
      "cell_type": "code",
      "metadata": {
        "id": "-0Y4DmtL3aPf",
        "colab": {
          "base_uri": "https://localhost:8080/",
          "height": 639
        },
        "outputId": "9f542f3b-0b7e-4662-b673-9d7f1ea67459"
      },
      "source": [
        "artist_dic = {}\n",
        "years = [i for i in range(1970, 2021)]\n",
        "for year in years:\n",
        "    data_year = metal_clean[metal_clean['Release Year'] == year]\n",
        "    score = data_year['User Score'].max()\n",
        "    secondary_df = data_year[data_year['User Score'] == score]\n",
        "    artist = secondary_df['Artist'].tolist()\n",
        "    for i in artist:\n",
        "      if i not in artist_dic:\n",
        "        artist_dic[i] = 1\n",
        "      else:\n",
        "        artist_dic[i] += 1\n",
        "\n",
        "artist_count = pd.DataFrame(data=artist_dic.values(), index=artist_dic.keys(), columns=['count'])\n",
        "artist_count.sort_values(by=['count'], ascending=False, inplace=True)\n",
        "fig = plt.figure(figsize=(10,10))\n",
        "sns.barplot(x='count', y=artist_count.index, data=artist_count)\n",
        "plt.title('Number of albums considered as the best album of the year per artist')\n",
        "plt.xlabel('Albums')"
      ],
      "execution_count": null,
      "outputs": [
        {
          "output_type": "execute_result",
          "data": {
            "text/plain": [
              "Text(0.5, 0, 'Albums')"
            ]
          },
          "metadata": {
            "tags": []
          },
          "execution_count": 46
        },
        {
          "output_type": "display_data",
          "data": {
            "image/png": "[encoded data removed]",
            "text/plain": [
              "<Figure size 720x720 with 1 Axes>"
            ]
          },
          "metadata": {
            "tags": [],
            "needs_background": "light"
          }
        }
      ]
    },
    {
      "cell_type": "markdown",
      "metadata": {
        "id": "wWFJnkQ-2048"
      },
      "source": [
        "<p align=\"Justify\">\n",
        "As the yearly output is really long it's a little bit difficult to count how many top albums each artist had. In this plot we see that most of the artists only had one album in the list. Only two artists had five albums in the list, Black Sabbath (Heavy Metal) and Death (Death Metal). Metallica is the only artist that has four albums in the list and those are their first four albums, \"Kill 'em All\", \"Ride The Lightning\", \"Master of Puppets\" and \"...And Justice for All\" it's interesting that their homonymous album \"Metallica\" (AKA \"Black Album) didn't made it into the list as is considered for most fans and critics as Metallica's best album.\n",
        "<p align=\"Justify\">\n",
        "Gojira, Judas Priest and Deftones had three albums on the list, and finally Entombed, Behemoth, Trivium, Opeth, Cryptopsy, Deicide, Mastodon, Architects, Motörhead, Iron Maiden and Celtic Frost have two albums on the list."
      ]
    },
    {
      "cell_type": "markdown",
      "metadata": {
        "id": "6NlPpwZRHgO9"
      },
      "source": [
        "## Most hyped records by year according to users reviews"
      ]
    },
    {
      "cell_type": "code",
      "metadata": {
        "id": "YvUaWaMHAWeQ",
        "colab": {
          "base_uri": "https://localhost:8080/"
        },
        "outputId": "3a93c1d4-0ee0-485f-e40f-7c1bd7c82a56"
      },
      "source": [
        "years = [i for i in range(1970, 2021)]\n",
        "for year in years:\n",
        "    data_year = metal_clean[metal_clean['Release Year'] == year]\n",
        "    score = data_year['User Reviews'].max()\n",
        "    secondary_df = data_year[data_year['User Reviews'] == score]\n",
        "    artist = secondary_df['Artist'].tolist()\n",
        "    album = secondary_df['Title'].tolist()\n",
        "    for i in range(0, len(artist)):\n",
        "        print('Most hyped record in {} was \"{}\" by {} with {} user reviews'.format(year, album[i], artist[i].upper(), score))\n",
        "        print('-'*20)"
      ],
      "execution_count": null,
      "outputs": [
        {
          "output_type": "stream",
          "text": [
            "Most hyped record in 1970 was \"Paranoid\" by BLACK SABBATH with 867.0 user reviews\n",
            "--------------------\n",
            "Most hyped record in 1971 was \"Master of Reality\" by BLACK SABBATH with 490.0 user reviews\n",
            "--------------------\n",
            "Most hyped record in 1972 was \"Black Sabbath Vol. 4\" by BLACK SABBATH with 295.0 user reviews\n",
            "--------------------\n",
            "Most hyped record in 1973 was \"Sabbath Bloody Sabbath\" by BLACK SABBATH with 267.0 user reviews\n",
            "--------------------\n",
            "Most hyped record in 1975 was \"Sabotage\" by BLACK SABBATH with 200.0 user reviews\n",
            "--------------------\n",
            "Most hyped record in 1976 was \"Sad Wings of Destiny\" by JUDAS PRIEST with 142.0 user reviews\n",
            "--------------------\n",
            "Most hyped record in 1977 was \"Sin After Sin\" by JUDAS PRIEST with 116.0 user reviews\n",
            "--------------------\n",
            "Most hyped record in 1978 was \"Stained Class\" by JUDAS PRIEST with 134.0 user reviews\n",
            "--------------------\n",
            "Most hyped record in 1979 was \"Overkill\" by MOTÃ¶RHEAD with 145.0 user reviews\n",
            "--------------------\n",
            "Most hyped record in 1980 was \"Iron Maiden\" by IRON MAIDEN with 242.0 user reviews\n",
            "--------------------\n",
            "Most hyped record in 1981 was \"Killers\" by IRON MAIDEN with 224.0 user reviews\n",
            "--------------------\n",
            "Most hyped record in 1982 was \"The Number of the Beast\" by IRON MAIDEN with 412.0 user reviews\n",
            "--------------------\n",
            "Most hyped record in 1983 was \"Kill 'Em All\" by METALLICA with 543.0 user reviews\n",
            "--------------------\n",
            "Most hyped record in 1984 was \"Ride the Lightning\" by METALLICA with 745.0 user reviews\n",
            "--------------------\n",
            "Most hyped record in 1985 was \"Killing Is My Business... and Business Is Good!\" by MEGADETH with 163.0 user reviews\n",
            "--------------------\n",
            "Most hyped record in 1986 was \"Master of Puppets\" by METALLICA with 833.0 user reviews\n",
            "--------------------\n",
            "Most hyped record in 1987 was \"Among the Living\" by ANTHRAX with 153.0 user reviews\n",
            "--------------------\n",
            "Most hyped record in 1988 was \"...And Justice for All\" by METALLICA with 464.0 user reviews\n",
            "--------------------\n",
            "Most hyped record in 1989 was \"Beneath the Remains\" by SEPULTURA with 129.0 user reviews\n",
            "--------------------\n",
            "Most hyped record in 1990 was \"Rust in Peace\" by MEGADETH with 372.0 user reviews\n",
            "--------------------\n",
            "Most hyped record in 1991 was \"Metallica\" by METALLICA with 593.0 user reviews\n",
            "--------------------\n",
            "Most hyped record in 1992 was \"Rage Against The Machine\" by RAGE AGAINST THE MACHINE with 845.0 user reviews\n",
            "--------------------\n",
            "Most hyped record in 1993 was \"Undertow\" by TOOL with 410.0 user reviews\n",
            "--------------------\n",
            "Most hyped record in 1994 was \"Korn\" by KORN with 282.0 user reviews\n",
            "--------------------\n",
            "Most hyped record in 1995 was \"Adrenaline\" by DEFTONES with 276.0 user reviews\n",
            "--------------------\n",
            "Most hyped record in 1996 was \"Ã†nima\" by TOOL with 558.0 user reviews\n",
            "--------------------\n",
            "Most hyped record in 1997 was \"Around the Fur\" by DEFTONES with 369.0 user reviews\n",
            "--------------------\n",
            "Most hyped record in 1998 was \"System of a Down\" by SYSTEM OF A DOWN with 471.0 user reviews\n",
            "--------------------\n",
            "Most hyped record in 1999 was \"Slipknot\" by SLIPKNOT with 398.0 user reviews\n",
            "--------------------\n",
            "Most hyped record in 2000 was \"Hybrid Theory\" by LINKIN PARK with 737.0 user reviews\n",
            "--------------------\n",
            "Most hyped record in 2001 was \"Toxicity\" by SYSTEM OF A DOWN with 1147.0 user reviews\n",
            "--------------------\n",
            "Most hyped record in 2002 was \"Steal This Album!\" by SYSTEM OF A DOWN with 468.0 user reviews\n",
            "--------------------\n",
            "Most hyped record in 2003 was \"Meteora\" by LINKIN PARK with 1177.0 user reviews\n",
            "--------------------\n",
            "Most hyped record in 2004 was \"Vol. 3: (The Subliminal Verses)\" by SLIPKNOT with 449.0 user reviews\n",
            "--------------------\n",
            "Most hyped record in 2005 was \"Mezmerize\" by SYSTEM OF A DOWN with 843.0 user reviews\n",
            "--------------------\n",
            "Most hyped record in 2006 was \"10,000 Days\" by TOOL with 853.0 user reviews\n",
            "--------------------\n",
            "Most hyped record in 2007 was \"Avenged Sevenfold\" by AVENGED SEVENFOLD with 407.0 user reviews\n",
            "--------------------\n",
            "Most hyped record in 2008 was \"Death Magnetic\" by METALLICA with 970.0 user reviews\n",
            "--------------------\n",
            "Most hyped record in 2009 was \"Crack The Skye\" by MASTODON with 378.0 user reviews\n",
            "--------------------\n",
            "Most hyped record in 2010 was \"Diamond Eyes\" by DEFTONES with 379.0 user reviews\n",
            "--------------------\n",
            "Most hyped record in 2011 was \"The Hunter\" by MASTODON with 224.0 user reviews\n",
            "--------------------\n",
            "Most hyped record in 2012 was \"Koi No Yokan\" by DEFTONES with 445.0 user reviews\n",
            "--------------------\n",
            "Most hyped record in 2013 was \"Sempiternal\" by BRING ME THE HORIZON with 513.0 user reviews\n",
            "--------------------\n",
            "Most hyped record in 2014 was \"The Satanist\" by BEHEMOTH with 385.0 user reviews\n",
            "--------------------\n",
            "Most hyped record in 2015 was \"New Bermuda\" by DEAFHEAVEN with 552.0 user reviews\n",
            "--------------------\n",
            "Most hyped record in 2016 was \"Hardwired...To Self-Destruct\" by METALLICA with 714.0 user reviews\n",
            "--------------------\n",
            "Most hyped record in 2017 was \"Forever\" by CODE ORANGE with 288.0 user reviews\n",
            "--------------------\n",
            "Most hyped record in 2018 was \"City Morgue Vol. 1: Hell Or High Water\" by ZILLAKAMI & SOSMULA with 572.0 user reviews\n",
            "--------------------\n",
            "Most hyped record in 2019 was \"Fear Inoculum\" by TOOL with 1406.0 user reviews\n",
            "--------------------\n",
            "Most hyped record in 2020 was \"I Disagree\" by POPPY with 1686.0 user reviews\n",
            "--------------------\n"
          ],
          "name": "stdout"
        }
      ]
    },
    {
      "cell_type": "markdown",
      "metadata": {
        "id": "h41eC907IW7Z"
      },
      "source": [
        "<p align=\"Justify\">\n",
        "The most hyped record on the list is \"I Disagree\" (2020) by Poppy, followed by \"Fear Inoculum\" (2019) by Tool, \"Meteora\" (2003) by Linkin Park, \"Toxicity\" (2001) by System of a Down and \"Rage Against The Machine\" (1992) by Rage Against The Machine.\n",
        "<p align=\"Justify\">\n",
        "From 1970 to 1982 the most hyped albums were made by British Heavy Metal artists (Black Sabbath, Judas Priest, Motörhead, Iron Maiden), from 1983 to 1991 Thrash Metal (Metallica, Megadeth, Anthrax, Sepultura) artists had the most hyped records.\n",
        "<p align=\"Justify\">\n",
        "From 1992 and so on there's a diversity of genres, Progressive Metal (Tool), Nu Metal (Korn, Slipknot, Deftones), Thrash Metal (Metallica), Death Metal (Behemoth). Some of the records in this list appear in the most acclaimed albums according to users. But as it happened in the other notebook the majority of them doesn't"
      ]
    },
    {
      "cell_type": "markdown",
      "metadata": {
        "id": "yCkJR-Zw8Xtm"
      },
      "source": [
        "## Artists that generate the most hype"
      ]
    },
    {
      "cell_type": "code",
      "metadata": {
        "colab": {
          "base_uri": "https://localhost:8080/",
          "height": 585
        },
        "id": "ZAQEQpQb8cn4",
        "outputId": "ecec229a-540c-4a33-8d43-4daa3066e6ad"
      },
      "source": [
        "fig, ax = plt.subplots(3, 1, figsize=(10,8))\n",
        "fig.tight_layout()\n",
        "fig.subplots_adjust(top=0.9)\n",
        "\n",
        "data_artist = metal_clean[['Artist', 'Critic Reviews', 'User Reviews']].copy()\n",
        "\n",
        "critics = data_artist[['Artist', 'Critic Reviews']]\n",
        "critics_group = critics.groupby('Artist').sum()\n",
        "critics_group.sort_values(by=['Critic Reviews'], ascending=False, inplace=True)\n",
        "sns.barplot(ax=ax[0], x='Critic Reviews', y=critics_group.index[0:10], data=critics_group[0:10])\n",
        "ax[0].set_title('Critics Hype')\n",
        "ax[0].set_xlabel('')\n",
        "ax[0].set_ylabel('')\n",
        "\n",
        "users = data_artist[['Artist', 'User Reviews']]\n",
        "users_group = users.groupby('Artist').sum()\n",
        "users_group.sort_values(by=['User Reviews'], ascending=False, inplace=True)\n",
        "sns.barplot(ax=ax[1], x='User Reviews', y=users_group.index[0:10], data=users_group[0:10])\n",
        "ax[1].set_title('Users Hype')\n",
        "ax[1].set_xlabel('')\n",
        "ax[1].set_ylabel('')\n",
        "\n",
        "data_artist['total_hype'] = data_artist['Critic Reviews'] + data_artist['User Reviews']\n",
        "data_artist = data_artist[['Artist', 'total_hype']]\n",
        "data_artist_group = data_artist.groupby('Artist').sum()\n",
        "data_artist_group.sort_values(by=['total_hype'], ascending=False, inplace=True)\n",
        "sns.barplot(ax=ax[2], x='total_hype', y=data_artist_group.index[0:10], data=data_artist_group[0:10])\n",
        "ax[2].set_title('Total Hype')\n",
        "ax[2].set_xlabel('')\n",
        "ax[2].set_ylabel('') \n",
        "\n",
        "plt.suptitle('Top 10 artist that generates most hype')\n",
        "plt.subplots_adjust(hspace=0.3)\n",
        "sns.despine(left=False, bottom=False)"
      ],
      "execution_count": null,
      "outputs": [
        {
          "output_type": "display_data",
          "data": {
            "image/png": "[encoded data removed]",
            "text/plain": [
              "<Figure size 720x576 with 3 Axes>"
            ]
          },
          "metadata": {
            "tags": [],
            "needs_background": "light"
          }
        }
      ]
    },
    {
      "cell_type": "markdown",
      "metadata": {
        "id": "QFlN5KQ-8vln"
      },
      "source": [
        "<p align=\"Justify\">\n",
        "To Measure the hype I decided to make three plots, the first one measures the critics hype. In that plot I found that the Melvins is the artist that generate the most hype to critics. This band is considered as one of the precursors of both grunge and sludge metal. In the second place we found Iron Maiden, which is no surprise their records are always expected for both critics and users. I expected to find Tool on this list as it's one of the most popular groups to critics.\n",
        "<p align=\"Justify\">\n",
        "For Users, Metallica, Tool and Black Sabbath leads the list. Slipknot and Korn are good surprises here, both are Nu Metal bands. Also Megadeth in the 9th spot which is kind of a surprise because it should be higher.\n",
        "<p align=\"Justify\">\n",
        "In the total hype, we see that Metallica leads the list, followed by Tool and Black Sabbath just like the users hype plot. When we look at the number of reviews, we found that the majority of reviews are made by users. One possible conclusion here is that probably Metal in general isn't that popular between critics or these websites (Metacritic and AOTY) doesn't collect a huge amount of critics reviews."
      ]
    },
    {
      "cell_type": "markdown",
      "metadata": {
        "id": "D30LapSeAEnl"
      },
      "source": [
        "## Most Acclaimed artists according to critics"
      ]
    },
    {
      "cell_type": "code",
      "metadata": {
        "colab": {
          "base_uri": "https://localhost:8080/",
          "height": 585
        },
        "id": "1Zl5ht0k8uW6",
        "outputId": "e7e1def8-3851-4e08-8a92-7773c076afae"
      },
      "source": [
        "fig, ax = plt.subplots(2, 1, figsize=(10,8))\n",
        "fig.tight_layout()\n",
        "fig.subplots_adjust(top=0.9)\n",
        "\n",
        "data_artist = metal_clean[['Artist', 'Critic Score']]\n",
        "data_artist_group = data_artist.groupby('Artist').sum()\n",
        "data_artist_group.sort_values(by=['Critic Score'], ascending=False, inplace=True)\n",
        "sns.barplot(ax=ax[0], x='Critic Score', y=data_artist_group.index[0:10], data=data_artist_group[0:10])\n",
        "ax[0].set_title('Total Critic Score')\n",
        "ax[0].set_xlabel('')\n",
        "ax[0].set_ylabel('')\n",
        "\n",
        "\n",
        "data_artist = metal_clean[['Artist', 'Critic Score']]\n",
        "data_artist_group = data_artist.groupby('Artist').mean()\n",
        "data_artist_group.sort_values(by=['Critic Score'], ascending=False, inplace=True)\n",
        "sns.barplot(ax=ax[1], x='Critic Score', y=data_artist_group.index[0:10], data=data_artist_group[0:10])\n",
        "ax[1].set_title('Average Critic Score')\n",
        "ax[1].set_xlabel('')\n",
        "ax[1].set_ylabel('')\n",
        "\n",
        "plt.suptitle('Top 10 most critically artists according to critics')\n",
        "plt.subplots_adjust(hspace=0.2)\n",
        "sns.despine(left=False, bottom=False)"
      ],
      "execution_count": null,
      "outputs": [
        {
          "output_type": "display_data",
          "data": {
            "image/png": "[encoded data removed]",
            "text/plain": [
              "<Figure size 720x576 with 2 Axes>"
            ]
          },
          "metadata": {
            "tags": [],
            "needs_background": "light"
          }
        }
      ]
    },
    {
      "cell_type": "markdown",
      "metadata": {
        "id": "SeZ1SMFtBQEr"
      },
      "source": [
        "<p align=\"Justify\">\n",
        "To find this I decided to take two approaches. First by measuring the total critic score that each artist have had during its career, this will give an advantage to artists that have had a long career or artists that have released a fair number of records. Second by calculating the average critic score for each artist, this might benefit artists that have released one really good record.\n",
        "<p align=\"Justify\">\n",
        "In the total critic score we found that Judas Priest (Heavy Metal) leads the list, they have 17 records on the list, all of them LPs. Their average critic score is 70.4. In second place we find Iron Maiden (Heavy Metal), they have 16 records, all of them LPs, on the list and an average score of 71.2. In third place we find Dream Theater (Progressive Metal) with 15 records (14 LPs, one EPs) and an average of 75.3. I'm surprised to see Cannibal Corpse in eighth place but they have 14 albums and an average score of 73.9. None of the artists in the top 10 had less than 15 albums.\n",
        "<p align=\"Justify\">\n",
        "Using the average critic score we have a different top 10. This one is led by Earth but as I expected they only have one record on the list, with a critic score of 91. In second place we find Dismember with also one record on the list and a score of 90. Necrophagist in third place also has one record and a score of 90. All the members on the list have only one record. A constant is that most of the artists here are Death Metal, with some exceptions.\n",
        "\n"
      ]
    },
    {
      "cell_type": "markdown",
      "metadata": {
        "id": "xg8dC6ZOSVnF"
      },
      "source": [
        "## Most acclaimed genres by critics"
      ]
    },
    {
      "cell_type": "code",
      "metadata": {
        "colab": {
          "base_uri": "https://localhost:8080/",
          "height": 585
        },
        "id": "0jMMieAZSYnk",
        "outputId": "cf393209-60c3-4196-c8a4-188de2984713"
      },
      "source": [
        "fig, ax = plt.subplots(2, 1, figsize=(10,8))\n",
        "fig.tight_layout()\n",
        "fig.subplots_adjust(top=0.9)\n",
        "\n",
        "data_genre = metal_clean[['Genre', 'Critic Score']]\n",
        "data_genre_group = data_genre.groupby('Genre').sum()\n",
        "data_genre_group.sort_values(by=['Critic Score'], ascending=False, inplace=True)\n",
        "sns.barplot(ax=ax[0], x='Critic Score', y=data_genre_group.index[0:10], data=data_genre_group[0:10])\n",
        "ax[0].set_title('Total Critic Score')\n",
        "ax[0].set_xlabel('')\n",
        "ax[0].set_ylabel('')\n",
        "\n",
        "\n",
        "data_genre = metal_clean[['Genre', 'Critic Score']]\n",
        "data_genre_group = data_genre.groupby('Genre').mean()\n",
        "data_genre_group.sort_values(by=['Critic Score'], ascending=False, inplace=True)\n",
        "sns.barplot(ax=ax[1], x='Critic Score', y=data_genre_group.index[0:10], data=data_genre_group[0:10])\n",
        "ax[1].set_title('Average Critic Score')\n",
        "ax[1].set_xlabel('')\n",
        "ax[1].set_ylabel('')\n",
        "\n",
        "plt.suptitle('Top 10 most critically genres according to critics')\n",
        "plt.subplots_adjust(hspace=0.2)\n",
        "sns.despine(left=False, bottom=False)"
      ],
      "execution_count": null,
      "outputs": [
        {
          "output_type": "display_data",
          "data": {
            "image/png": "[encoded data removed]",
            "text/plain": [
              "<Figure size 720x576 with 2 Axes>"
            ]
          },
          "metadata": {
            "tags": [],
            "needs_background": "light"
          }
        }
      ]
    },
    {
      "cell_type": "markdown",
      "metadata": {
        "id": "L3mayiE6xxz6"
      },
      "source": [
        "<p align=\"Justify\">\n",
        "To answer this i used the same approach that i made with the most acclaimed artists. Taking the total we found Death Metal as the most acclaimed genre with a total score close to 17500. This genre has 224 records on the list and an average critic score of 78.4. In second place we find Progressive Metal with a total score close to 14500. This genre has 188 records and an average critic score of 77. In third place we find Heavy Metal with a total score close to 11800, this genre has 165 records and an average critic score of 71.7.\n",
        "<p align=\"Justify\">\n",
        "Using the average critic score we find Drone Metal in the first place, this genre is characterized by melding it's slow tempos and heaviness of doom metal with the long duration tunes of drone music (which is a minimalistic genre that emphasizes the use of sustained sounds, notes or tone clusters), this genre only has 16 records and an average score of 81. In second place we find Folk Metal with 23 records and an average score of 79, this genre is characterized by the use of folk instruments and the use of traditional singing style, like Dutch Heidevolk or Danish Sylvatica. Atmospheric Black Metal, which is a genre characterized by being less aggressive than black metal. It also incorporates atmospheric and dreamy textures into its sound. This genre has 44 records on the list and an average score of 79.\n",
        "<p align=\"Justify\">\n",
        "I don't find huge surprises here, but it is interesting that critics have a tendency of liking groups and genres whos sound is slow paced or incorporates different sounds. In the Death Metal case, I wonder if they like groups that have gory lyrics or groups that have political, philosophical or mythological lyrics."
      ]
    },
    {
      "cell_type": "markdown",
      "metadata": {
        "id": "rtooaLJUWQhS"
      },
      "source": [
        "## Genres that generates the most feedback from critics and users"
      ]
    },
    {
      "cell_type": "code",
      "metadata": {
        "colab": {
          "base_uri": "https://localhost:8080/",
          "height": 585
        },
        "id": "WAlTUSpZQUyT",
        "outputId": "18efb765-ab0e-422f-a23b-11498afcd489"
      },
      "source": [
        "feedback = metal_clean[['Genre', 'Critic Reviews', 'User Reviews']].copy()\n",
        "feedback = feedback[feedback['Genre'] != 'Unknown']\n",
        "feedback['Total'] = feedback['Critic Reviews'] + feedback['User Reviews']\n",
        "\n",
        "fig, ax = plt.subplots(3, 1, figsize=(10,8))\n",
        "fig.tight_layout()\n",
        "fig.subplots_adjust(top=0.9)\n",
        "\n",
        "critics = feedback[['Genre', 'Critic Reviews']]\n",
        "critics_group = critics.groupby('Genre').sum()\n",
        "critics_group.sort_values(by=['Critic Reviews'], ascending=False, inplace=True)\n",
        "sns.barplot(ax=ax[0], x='Critic Reviews', y=critics_group.index[0:10], data=critics_group[0:10])\n",
        "ax[0].set_title('From Critics')\n",
        "ax[0].set_xlabel('')\n",
        "ax[0].set_ylabel('')\n",
        "\n",
        "users = feedback[['Genre', 'User Reviews']]\n",
        "users_group = users.groupby('Genre').sum()\n",
        "users_group.sort_values(by=['User Reviews'], ascending=False, inplace=True)\n",
        "sns.barplot(ax=ax[1], x='User Reviews', y=users_group.index[0:10], data=users_group[0:10])\n",
        "ax[1].set_title('From Users')\n",
        "ax[1].set_xlabel('')\n",
        "ax[1].set_ylabel('')\n",
        "\n",
        "total = feedback[['Genre', 'Total']]\n",
        "total_group = total.groupby('Genre').sum()\n",
        "total_group.sort_values(by=['Total'], ascending = False, inplace=True)\n",
        "sns.barplot(ax=ax[2], x='Total', y=total_group.index[0:10], data=total_group[0:10])\n",
        "ax[2].set_title('In Total')\n",
        "ax[2].set_xlabel('')\n",
        "ax[2].set_ylabel('')\n",
        "\n",
        "plt.suptitle('Genres that generate most feedback')\n",
        "plt.subplots_adjust(hspace=0.3)\n",
        "sns.despine(left=False, bottom=False)"
      ],
      "execution_count": null,
      "outputs": [
        {
          "output_type": "display_data",
          "data": {
            "image/png": "[encoded data removed]",
            "text/plain": [
              "<Figure size 720x576 with 3 Axes>"
            ]
          },
          "metadata": {
            "tags": [],
            "needs_background": "light"
          }
        }
      ]
    },
    {
      "cell_type": "markdown",
      "metadata": {
        "id": "r5yru-N75ngj"
      },
      "source": [
        "<p align=\"Justify\">\n",
        "In the last section we found that there might be a possibility that critics love slow pace and clean sound metal. And in this one we keep seeing it. The first three spots on the critics plot are occupied by Progressive Metal, Heavy Metal and Alternative Metal. It also looks like critics doesn't talk a lot about heavier genres like Black Metal or Doom Metal. It's interesting, however, the fact that even if critics don't talk a lot about these genres, they give them high scores which also say that they recognize the quality of the genre.\n",
        "<p align=\"Justify\">\n",
        "Users like to talk about alternative, progressive and heavy metal. They also don't talk a lot about heavier genres like Black Metal. In total the number of comments on both Metacritic and AOTY are about Alternative, Progressive and Heavy Metal, with more feedback from users than from critics."
      ]
    },
    {
      "cell_type": "markdown",
      "metadata": {
        "id": "9wop11olWjwX"
      },
      "source": [
        "## Albums with the most negative reception from critics"
      ]
    },
    {
      "cell_type": "code",
      "metadata": {
        "colab": {
          "base_uri": "https://localhost:8080/",
          "height": 363
        },
        "id": "I3QxvxogWcvX",
        "outputId": "33a6d07d-b8b0-4c8c-8867-ed2388e82f34"
      },
      "source": [
        "bad = metal_clean[['Artist', 'Title', 'Critic Score']].copy()\n",
        "bad.sort_values(by=['Critic Score'], ascending= True, inplace=True)\n",
        "bad[0:10]"
      ],
      "execution_count": null,
      "outputs": [
        {
          "output_type": "execute_result",
          "data": {
            "text/html": [
              "<div>\n",
              "<style scoped>\n",
              "    .dataframe tbody tr th:only-of-type {\n",
              "        vertical-align: middle;\n",
              "    }\n",
              "\n",
              "    .dataframe tbody tr th {\n",
              "        vertical-align: top;\n",
              "    }\n",
              "\n",
              "    .dataframe thead th {\n",
              "        text-align: right;\n",
              "    }\n",
              "</style>\n",
              "<table border=\"1\" class=\"dataframe\">\n",
              "  <thead>\n",
              "    <tr style=\"text-align: right;\">\n",
              "      <th></th>\n",
              "      <th>Artist</th>\n",
              "      <th>Title</th>\n",
              "      <th>Critic Score</th>\n",
              "    </tr>\n",
              "  </thead>\n",
              "  <tbody>\n",
              "    <tr>\n",
              "      <th>2365</th>\n",
              "      <td>Limp Bizkit</td>\n",
              "      <td>Results May Vary</td>\n",
              "      <td>36.0</td>\n",
              "    </tr>\n",
              "    <tr>\n",
              "      <th>8487</th>\n",
              "      <td>Incubus</td>\n",
              "      <td>Fungus Amongus</td>\n",
              "      <td>42.0</td>\n",
              "    </tr>\n",
              "    <tr>\n",
              "      <th>5056</th>\n",
              "      <td>Megadeth</td>\n",
              "      <td>Super Collider</td>\n",
              "      <td>43.0</td>\n",
              "    </tr>\n",
              "    <tr>\n",
              "      <th>8790</th>\n",
              "      <td>Mudvayne</td>\n",
              "      <td>Lost and Found</td>\n",
              "      <td>46.0</td>\n",
              "    </tr>\n",
              "    <tr>\n",
              "      <th>16991</th>\n",
              "      <td>KISS</td>\n",
              "      <td>Animalize</td>\n",
              "      <td>46.0</td>\n",
              "    </tr>\n",
              "    <tr>\n",
              "      <th>9484</th>\n",
              "      <td>Godsmack</td>\n",
              "      <td>Faceless</td>\n",
              "      <td>47.0</td>\n",
              "    </tr>\n",
              "    <tr>\n",
              "      <th>24531</th>\n",
              "      <td>Lost Horizon</td>\n",
              "      <td>A Flame to the Ground Beneath</td>\n",
              "      <td>48.0</td>\n",
              "    </tr>\n",
              "    <tr>\n",
              "      <th>3621</th>\n",
              "      <td>Korn</td>\n",
              "      <td>Take a Look in the Mirror</td>\n",
              "      <td>48.0</td>\n",
              "    </tr>\n",
              "    <tr>\n",
              "      <th>16992</th>\n",
              "      <td>KISS</td>\n",
              "      <td>Asylum</td>\n",
              "      <td>48.0</td>\n",
              "    </tr>\n",
              "    <tr>\n",
              "      <th>22720</th>\n",
              "      <td>Snot</td>\n",
              "      <td>Get Some</td>\n",
              "      <td>48.0</td>\n",
              "    </tr>\n",
              "  </tbody>\n",
              "</table>\n",
              "</div>"
            ],
            "text/plain": [
              "             Artist                          Title  Critic Score\n",
              "2365    Limp Bizkit               Results May Vary          36.0\n",
              "8487        Incubus                 Fungus Amongus          42.0\n",
              "5056       Megadeth                 Super Collider          43.0\n",
              "8790       Mudvayne                 Lost and Found          46.0\n",
              "16991          KISS                      Animalize          46.0\n",
              "9484       Godsmack                       Faceless          47.0\n",
              "24531  Lost Horizon  A Flame to the Ground Beneath          48.0\n",
              "3621           Korn      Take a Look in the Mirror          48.0\n",
              "16992          KISS                         Asylum          48.0\n",
              "22720          Snot                       Get Some          48.0"
            ]
          },
          "metadata": {
            "tags": []
          },
          "execution_count": 52
        }
      ]
    },
    {
      "cell_type": "markdown",
      "metadata": {
        "id": "-eh9T3pP9WlV"
      },
      "source": [
        "<p align=\"Justify\">\n",
        "The album with the most negative reception by critics is, by no surprise, \"Results May Vary\" by Limp Bizkit. It looks like their result did not vary at all. On Metacritic they have six negative, four mixed and one positive review, meanwhile on AOTY they have two mixed and six negative reviews. Most of the critics agree that the album was a failure and that the music doesn't have any melody, hooks or energy. One of the critics at Dot Music said:\n",
        "\n",
        "\"*Eventually, 'Results May Vary' could become a fascinating document - a frightening insight into the vacuous state of 21st century culture.*\"\n",
        "\n",
        "Rob Fitzpatrick at NME says: \"*‘Results May Vary’ isn’t worth your anger*\"\n",
        "\n",
        "<p align=\"Justify\">\n",
        "In second place we find \"Fungus Amongus\" by Incubus, there is only one critic review by Deal Carlson at AllMusic that says: \n",
        "\n",
        "\"*Incubus' independent debut is an unremarkable take on suburban MTV funk*\"\n",
        "\n",
        "This was Incubus' first album and it looks like not many people like it, as it has a user score of 57 and their reviews aren't good.\n",
        "\n",
        "<p align=\"Justify\">\n",
        "The only surprise on the list, which isn't actually a surprise as its their most disliked album on their entire career, we found Megadeth's, not Thrash Metal album, \"Super Collider.\" And that was the opinion of the critics as well. This isn't a Thrash Metal album and that was totally unexpected. Greg Pratt at Exclaim says:\n",
        "<p align=\"Justify\">\n",
        "<i>\"While there's nothing abhorrent about this album, it's so unobtrusive that it's practically not there, just one more forgettable release from a guy we're all secretly rooting for.\"</i>\n",
        "\n",
        "<p align=\"Justify\">\n",
        "Kiss is the only artist that has two entries in this top 10 with \"Animalize\" (1984) and \"Asylum\" (1985). Both records are heavily criticized because its sound is very similar to pop artist than to heavy metal. Most of the records on this list are not really bad, except \"Results May Vary\", they are pretty close to Metacritic's mixed and average reviews score.\n",
        "\n",
        "\n",
        "\n"
      ]
    },
    {
      "cell_type": "markdown",
      "metadata": {
        "id": "VmflB9cVWylJ"
      },
      "source": [
        "## Albums with the most negative reception from users"
      ]
    },
    {
      "cell_type": "code",
      "metadata": {
        "colab": {
          "base_uri": "https://localhost:8080/",
          "height": 363
        },
        "id": "IikbZtcCWp8C",
        "outputId": "ded55728-1b34-4993-8fae-5fa473a0e4fa"
      },
      "source": [
        "bad = metal_clean[['Artist', 'Title', 'User Score']].copy()\n",
        "bad.sort_values(by=['User Score'], ascending= True, inplace=True)\n",
        "bad[0:10]"
      ],
      "execution_count": null,
      "outputs": [
        {
          "output_type": "execute_result",
          "data": {
            "text/html": [
              "<div>\n",
              "<style scoped>\n",
              "    .dataframe tbody tr th:only-of-type {\n",
              "        vertical-align: middle;\n",
              "    }\n",
              "\n",
              "    .dataframe tbody tr th {\n",
              "        vertical-align: top;\n",
              "    }\n",
              "\n",
              "    .dataframe thead th {\n",
              "        text-align: right;\n",
              "    }\n",
              "</style>\n",
              "<table border=\"1\" class=\"dataframe\">\n",
              "  <thead>\n",
              "    <tr style=\"text-align: right;\">\n",
              "      <th></th>\n",
              "      <th>Artist</th>\n",
              "      <th>Title</th>\n",
              "      <th>User Score</th>\n",
              "    </tr>\n",
              "  </thead>\n",
              "  <tbody>\n",
              "    <tr>\n",
              "      <th>23155</th>\n",
              "      <td>Five Finger Death Punch</td>\n",
              "      <td>And Justice for None</td>\n",
              "      <td>32.0</td>\n",
              "    </tr>\n",
              "    <tr>\n",
              "      <th>2365</th>\n",
              "      <td>Limp Bizkit</td>\n",
              "      <td>Results May Vary</td>\n",
              "      <td>33.0</td>\n",
              "    </tr>\n",
              "    <tr>\n",
              "      <th>3751</th>\n",
              "      <td>Metallica</td>\n",
              "      <td>St. Anger</td>\n",
              "      <td>46.0</td>\n",
              "    </tr>\n",
              "    <tr>\n",
              "      <th>8020</th>\n",
              "      <td>Cynic</td>\n",
              "      <td>Kindly Bent to Free Us</td>\n",
              "      <td>46.0</td>\n",
              "    </tr>\n",
              "    <tr>\n",
              "      <th>1983</th>\n",
              "      <td>Limp Bizkit</td>\n",
              "      <td>Gold Cobra</td>\n",
              "      <td>48.0</td>\n",
              "    </tr>\n",
              "    <tr>\n",
              "      <th>5056</th>\n",
              "      <td>Megadeth</td>\n",
              "      <td>Super Collider</td>\n",
              "      <td>48.0</td>\n",
              "    </tr>\n",
              "    <tr>\n",
              "      <th>2291</th>\n",
              "      <td>Korn</td>\n",
              "      <td>The Path of Totality</td>\n",
              "      <td>48.0</td>\n",
              "    </tr>\n",
              "    <tr>\n",
              "      <th>21584</th>\n",
              "      <td>Ministry</td>\n",
              "      <td>AmeriKKKant</td>\n",
              "      <td>49.0</td>\n",
              "    </tr>\n",
              "    <tr>\n",
              "      <th>23779</th>\n",
              "      <td>Disturbed</td>\n",
              "      <td>Evolution</td>\n",
              "      <td>50.0</td>\n",
              "    </tr>\n",
              "    <tr>\n",
              "      <th>10138</th>\n",
              "      <td>Bullet For My Valentine</td>\n",
              "      <td>Temper Temper</td>\n",
              "      <td>51.0</td>\n",
              "    </tr>\n",
              "  </tbody>\n",
              "</table>\n",
              "</div>"
            ],
            "text/plain": [
              "                        Artist                   Title  User Score\n",
              "23155  Five Finger Death Punch    And Justice for None        32.0\n",
              "2365               Limp Bizkit        Results May Vary        33.0\n",
              "3751                 Metallica               St. Anger        46.0\n",
              "8020                     Cynic  Kindly Bent to Free Us        46.0\n",
              "1983               Limp Bizkit              Gold Cobra        48.0\n",
              "5056                  Megadeth          Super Collider        48.0\n",
              "2291                      Korn    The Path of Totality        48.0\n",
              "21584                 Ministry             AmeriKKKant        49.0\n",
              "23779                Disturbed               Evolution        50.0\n",
              "10138  Bullet For My Valentine           Temper Temper        51.0"
            ]
          },
          "metadata": {
            "tags": []
          },
          "execution_count": 53
        }
      ]
    },
    {
      "cell_type": "markdown",
      "metadata": {
        "id": "N15TyxRgBn2G"
      },
      "source": [
        "<p align=\"Justify\">\n",
        "The most disliked album for fans is \"And Justice for None\" by Five Finger Death Punch, the main critic made is that the lyrics \n",
        "<p align=\"Justify\">\n",
        "<i>\"in most of the album are laughable, and most of their songs sound the exact same aside from a few slight differences.\"</i> \n",
        "\n",
        "For critics this album has mixed reviews, Rolling Stone says: \n",
        "\n",
        "<i>\"It's all piss and vinegar and posturing.\"</i>\n",
        "\n",
        "<p align=\"Justify\">\n",
        "No surprise on second place, Limp Bizkit's \"Results May Vary\" definitely didn't vary at all and fans says: \n",
        "<p align=\"Justify\">\n",
        "<i>\"Are they seriously thinking anyone will take this crap seriously?\", \"This is an album, if you can even call it that, that you hear and think to yourself “How could anybody approve of this?”. Fred Durst is easily one of the biggest jokes in rock history, and it primarily comes from this awful LP. Its biggest sin however is attempting to recreate a classic track from The Who which results in probably the worst cover song of all time.\"</i>\n",
        "\n",
        "<p align=\"Justify\">\n",
        "Metallica's \"St Anger\" in third place, isn't a surprise either as it's Metallica's most disliked work by fans. Critics on the other side praised the album, Entertainment Weekly said:\n",
        "<p align=\"Justify\">\n",
        "<i>\"”St. Anger” is arguably the season’s finest metal offering – and the band’s best since 1991’s ”Metallica”.\"</i> \n",
        "\n",
        "However fans opinions are: \n",
        "<p align=\"Justify\">\n",
        "<i>\"St. Anger is exactly what critics pan for it. There is poor editing and the album is a mess of wild confusion, distortion, off-beat drumming and fear. \"Frantic\" the initial track perfectly shares the emotional instability felt on this album. While musically fractured, it is one of the most fascinating albums put out by Metallica.\"</i> \n",
        "<p align=\"Justify\">\n",
        "<i>\"This album is a mess, we have some bad mixing here, instruments out of tune and that snare drum sounding like a trashcan, they should've worked a bit more on these aspects, if you search for live performances where they have everything right, you can see that it could be a lot better, we have the guitars working well, the drums sounding like real drums, even some improvised guitar solos, St. Anger had a lot of potential, but the turbulent moment the band was going through kinda ruined it.\"</i>\n",
        "\n",
        "<p align=\"Justify\">\n",
        "Only the first two places are considered as bad or in Metacritic's metascore with \"generally unfavorable reviews.\" The rest have mixed reviews."
      ]
    },
    {
      "cell_type": "markdown",
      "metadata": {
        "id": "E-kOzjRVW968"
      },
      "source": [
        "## Most Hyped EP according to Critics"
      ]
    },
    {
      "cell_type": "code",
      "metadata": {
        "colab": {
          "base_uri": "https://localhost:8080/",
          "height": 363
        },
        "id": "FoVzRkvXW1oy",
        "outputId": "573fd5d7-1f29-42c6-d1ea-1fd2bd7f0601"
      },
      "source": [
        "ep = metal_clean[metal_clean['Format'] == 'EP'].copy()\n",
        "ep = ep[['Artist', 'Title', 'Critic Reviews']]\n",
        "ep.sort_values(by=['Critic Reviews'], ascending=False, inplace=True)\n",
        "ep[0:10]"
      ],
      "execution_count": null,
      "outputs": [
        {
          "output_type": "execute_result",
          "data": {
            "text/html": [
              "<div>\n",
              "<style scoped>\n",
              "    .dataframe tbody tr th:only-of-type {\n",
              "        vertical-align: middle;\n",
              "    }\n",
              "\n",
              "    .dataframe tbody tr th {\n",
              "        vertical-align: top;\n",
              "    }\n",
              "\n",
              "    .dataframe thead th {\n",
              "        text-align: right;\n",
              "    }\n",
              "</style>\n",
              "<table border=\"1\" class=\"dataframe\">\n",
              "  <thead>\n",
              "    <tr style=\"text-align: right;\">\n",
              "      <th></th>\n",
              "      <th>Artist</th>\n",
              "      <th>Title</th>\n",
              "      <th>Critic Reviews</th>\n",
              "    </tr>\n",
              "  </thead>\n",
              "  <tbody>\n",
              "    <tr>\n",
              "      <th>23303</th>\n",
              "      <td>Thou</td>\n",
              "      <td>Rhea Sylvia</td>\n",
              "      <td>15.0</td>\n",
              "    </tr>\n",
              "    <tr>\n",
              "      <th>10025</th>\n",
              "      <td>Inter Arma</td>\n",
              "      <td>The Cavern</td>\n",
              "      <td>15.0</td>\n",
              "    </tr>\n",
              "    <tr>\n",
              "      <th>6349</th>\n",
              "      <td>Metallica</td>\n",
              "      <td>Beyond Magnetic</td>\n",
              "      <td>14.0</td>\n",
              "    </tr>\n",
              "    <tr>\n",
              "      <th>3547</th>\n",
              "      <td>Down</td>\n",
              "      <td>Down IV Part I - The Purple EP</td>\n",
              "      <td>14.0</td>\n",
              "    </tr>\n",
              "    <tr>\n",
              "      <th>4668</th>\n",
              "      <td>The Body</td>\n",
              "      <td>Master, We Perish</td>\n",
              "      <td>13.0</td>\n",
              "    </tr>\n",
              "    <tr>\n",
              "      <th>16205</th>\n",
              "      <td>Gorguts</td>\n",
              "      <td>Pleiades' Dust</td>\n",
              "      <td>13.0</td>\n",
              "    </tr>\n",
              "    <tr>\n",
              "      <th>3387</th>\n",
              "      <td>Tool</td>\n",
              "      <td>Opiate</td>\n",
              "      <td>12.0</td>\n",
              "    </tr>\n",
              "    <tr>\n",
              "      <th>8770</th>\n",
              "      <td>Periphery</td>\n",
              "      <td>Clear</td>\n",
              "      <td>12.0</td>\n",
              "    </tr>\n",
              "    <tr>\n",
              "      <th>23027</th>\n",
              "      <td>Thou</td>\n",
              "      <td>The House Primordial</td>\n",
              "      <td>12.0</td>\n",
              "    </tr>\n",
              "    <tr>\n",
              "      <th>24538</th>\n",
              "      <td>Jinjer</td>\n",
              "      <td>Micro</td>\n",
              "      <td>11.0</td>\n",
              "    </tr>\n",
              "  </tbody>\n",
              "</table>\n",
              "</div>"
            ],
            "text/plain": [
              "           Artist                           Title  Critic Reviews\n",
              "23303        Thou                     Rhea Sylvia            15.0\n",
              "10025  Inter Arma                      The Cavern            15.0\n",
              "6349    Metallica                 Beyond Magnetic            14.0\n",
              "3547         Down  Down IV Part I - The Purple EP            14.0\n",
              "4668     The Body               Master, We Perish            13.0\n",
              "16205     Gorguts                  Pleiades' Dust            13.0\n",
              "3387         Tool                          Opiate            12.0\n",
              "8770    Periphery                           Clear            12.0\n",
              "23027        Thou            The House Primordial            12.0\n",
              "24538      Jinjer                           Micro            11.0"
            ]
          },
          "metadata": {
            "tags": []
          },
          "execution_count": 54
        }
      ]
    },
    {
      "cell_type": "markdown",
      "metadata": {
        "id": "C5fi33Kh_w0p"
      },
      "source": [
        "<p align=\"Justify\">\n",
        "The first thing we see here is that there aren't a lot of critics in Metal, if we compare with the global review there was at least 60 reviews on the most hyped EP.\n",
        "<p align=\"Justify\">\n",
        "Thou's \"Rhea Sylvia\" and Inter Arma's \"The Cavern\" were the most hyped EPs on the list. They also have good critic and user scores. About \"Rhea Sylvia\" critics say:\n",
        "<p align=\"Justify\">\n",
        "<i>\"These ambitions, of which, are completely realized as Rhea Sylvia is a beautiful and haunting standout among an already incredible body of work.\"</i> \n",
        "\n",
        "About \"The Cavern\", which is a 45 minute track: \n",
        "<p align=\"Justify\">\n",
        "<i>\"...The Cavern is a brilliantly sustained metallic workout that shifts from barrages of gut-punch riffage to breathless moments of creeping menace and back again\"</i>\n",
        "<p align=\"Justify\">\n",
        "Metallica's \"Death Magnetic\" which was their return to their thrash roots was really expected by both critics and fans, and was considered as:\n",
        "\n",
        "<i>\"their best work in 17 years\"</i>\n",
        "<p align=\"Justify\">\n",
        "The majority of records here are Sludge/Death Metal with the exception of Tool, Metallica and Periphery."
      ]
    },
    {
      "cell_type": "markdown",
      "metadata": {
        "id": "9UkinBB7XLah"
      },
      "source": [
        "## Most Hyped EP according to Users"
      ]
    },
    {
      "cell_type": "code",
      "metadata": {
        "colab": {
          "base_uri": "https://localhost:8080/",
          "height": 363
        },
        "id": "HrtFmQ-AXAzH",
        "outputId": "b34b33c0-af78-4d02-840a-9e8333a2d6de"
      },
      "source": [
        "ep = metal_clean[metal_clean['Format'] == 'EP'].copy()\n",
        "ep = ep[['Artist', 'Title', 'User Reviews']]\n",
        "ep.sort_values(by=['User Reviews'], ascending=False, inplace=True)\n",
        "ep[0:10]"
      ],
      "execution_count": null,
      "outputs": [
        {
          "output_type": "execute_result",
          "data": {
            "text/html": [
              "<div>\n",
              "<style scoped>\n",
              "    .dataframe tbody tr th:only-of-type {\n",
              "        vertical-align: middle;\n",
              "    }\n",
              "\n",
              "    .dataframe tbody tr th {\n",
              "        vertical-align: top;\n",
              "    }\n",
              "\n",
              "    .dataframe thead th {\n",
              "        text-align: right;\n",
              "    }\n",
              "</style>\n",
              "<table border=\"1\" class=\"dataframe\">\n",
              "  <thead>\n",
              "    <tr style=\"text-align: right;\">\n",
              "      <th></th>\n",
              "      <th>Artist</th>\n",
              "      <th>Title</th>\n",
              "      <th>User Reviews</th>\n",
              "    </tr>\n",
              "  </thead>\n",
              "  <tbody>\n",
              "    <tr>\n",
              "      <th>3387</th>\n",
              "      <td>Tool</td>\n",
              "      <td>Opiate</td>\n",
              "      <td>212.0</td>\n",
              "    </tr>\n",
              "    <tr>\n",
              "      <th>3745</th>\n",
              "      <td>Nine Inch Nails</td>\n",
              "      <td>Broken</td>\n",
              "      <td>188.0</td>\n",
              "    </tr>\n",
              "    <tr>\n",
              "      <th>24538</th>\n",
              "      <td>Jinjer</td>\n",
              "      <td>Micro</td>\n",
              "      <td>108.0</td>\n",
              "    </tr>\n",
              "    <tr>\n",
              "      <th>13446</th>\n",
              "      <td>Dream Theater</td>\n",
              "      <td>A Change of Seasons</td>\n",
              "      <td>105.0</td>\n",
              "    </tr>\n",
              "    <tr>\n",
              "      <th>6349</th>\n",
              "      <td>Metallica</td>\n",
              "      <td>Beyond Magnetic</td>\n",
              "      <td>102.0</td>\n",
              "    </tr>\n",
              "    <tr>\n",
              "      <th>10025</th>\n",
              "      <td>Inter Arma</td>\n",
              "      <td>The Cavern</td>\n",
              "      <td>99.0</td>\n",
              "    </tr>\n",
              "    <tr>\n",
              "      <th>8770</th>\n",
              "      <td>Periphery</td>\n",
              "      <td>Clear</td>\n",
              "      <td>97.0</td>\n",
              "    </tr>\n",
              "    <tr>\n",
              "      <th>11737</th>\n",
              "      <td>Celtic Frost</td>\n",
              "      <td>Morbid Tales</td>\n",
              "      <td>92.0</td>\n",
              "    </tr>\n",
              "    <tr>\n",
              "      <th>7484</th>\n",
              "      <td>Slayer</td>\n",
              "      <td>Haunting the Chapel</td>\n",
              "      <td>89.0</td>\n",
              "    </tr>\n",
              "    <tr>\n",
              "      <th>23438</th>\n",
              "      <td>Converge</td>\n",
              "      <td>Beautiful Ruin</td>\n",
              "      <td>86.0</td>\n",
              "    </tr>\n",
              "  </tbody>\n",
              "</table>\n",
              "</div>"
            ],
            "text/plain": [
              "                Artist                Title  User Reviews\n",
              "3387              Tool               Opiate         212.0\n",
              "3745   Nine Inch Nails               Broken         188.0\n",
              "24538           Jinjer                Micro         108.0\n",
              "13446    Dream Theater  A Change of Seasons         105.0\n",
              "6349         Metallica      Beyond Magnetic         102.0\n",
              "10025       Inter Arma           The Cavern          99.0\n",
              "8770         Periphery                Clear          97.0\n",
              "11737     Celtic Frost         Morbid Tales          92.0\n",
              "7484            Slayer  Haunting the Chapel          89.0\n",
              "23438         Converge       Beautiful Ruin          86.0"
            ]
          },
          "metadata": {
            "tags": []
          },
          "execution_count": 55
        }
      ]
    },
    {
      "cell_type": "markdown",
      "metadata": {
        "id": "1P46cBbEI1Ve"
      },
      "source": [
        "<p align=\"Justify\">\n",
        "As expected Tool leads the list with \"Opiate\", this EP has a critic score of 64 and a user score of 76. The best thing about this album is that is <i>\"This was Tool before it became the Tool we know today.\"</i> In second place we find Nine Inch Nails' \"Broken\" with a critic score of 78 and a user score of 80. In third place we find Jinjer's \"Micro\" which is praised not only by its sound but also by Tatiana Shmaylyuk's vocal versatility.\n",
        "\n",
        "The biggest difference between this list and the critics list is that this list is more diverse.\n",
        "\n"
      ]
    },
    {
      "cell_type": "markdown",
      "metadata": {
        "id": "U5xWkO7sXUdg"
      },
      "source": [
        "## Months well recieved by critics and users"
      ]
    },
    {
      "cell_type": "code",
      "metadata": {
        "colab": {
          "base_uri": "https://localhost:8080/",
          "height": 881
        },
        "id": "NwE0b7s5XPhc",
        "outputId": "99c98735-2d7c-4e1f-be52-d2762180e69a"
      },
      "source": [
        "fig, ax = plt.subplots(4, 1, figsize=(10,12))\n",
        "fig.tight_layout()\n",
        "fig.subplots_adjust(top=0.93)\n",
        "\n",
        "critics = metal_clean[['Release Month', 'Critic Score']].copy()\n",
        "critics_group = critics.groupby('Release Month').sum()\n",
        "critics_group.sort_values(by=['Critic Score'], ascending=False, inplace=True)\n",
        "sns.barplot(ax=ax[0], x='Critic Score', y=critics_group.index, data=critics_group)\n",
        "ax[0].set_title('By Critics')\n",
        "ax[0].set_xlabel('Total Score')\n",
        "ax[0].set_ylabel('')\n",
        "\n",
        "users = metal_clean[['Release Month', 'User Score']].copy()\n",
        "users_group = users.groupby('Release Month').sum()\n",
        "users_group.sort_values(by=['User Score'], ascending=False, inplace=True)\n",
        "sns.barplot(ax=ax[1], x='User Score', y=users_group.index, data=users_group)\n",
        "ax[1].set_title('By Users')\n",
        "ax[1].set_xlabel('Total Score')\n",
        "ax[1].set_ylabel('')\n",
        "\n",
        "critics = metal_clean[['Release Month', 'Critic Score']].copy()\n",
        "critics_group = critics.groupby('Release Month').mean()\n",
        "critics_group.sort_values(by=['Critic Score'], ascending=False, inplace=True)\n",
        "sns.barplot(ax=ax[2], x='Critic Score', y=critics_group.index, data=critics_group)\n",
        "ax[2].set_title('By Critics')\n",
        "ax[2].set_xlabel('Mean Score')\n",
        "ax[2].set_ylabel('')\n",
        "\n",
        "users = metal_clean[['Release Month', 'User Score']].copy()\n",
        "users_group = users.groupby('Release Month').mean()\n",
        "users_group.sort_values(by=['User Score'], ascending=False, inplace=True)\n",
        "sns.barplot(ax=ax[3], x='User Score', y=users_group.index, data=users_group)\n",
        "ax[3].set_title('By Users')\n",
        "ax[3].set_xlabel('Mean Score')\n",
        "ax[3].set_ylabel('')\n",
        "\n",
        "plt.suptitle('Months Well Recieved')\n",
        "plt.subplots_adjust(hspace=0.4)\n",
        "sns.despine(left=False, bottom=False)"
      ],
      "execution_count": null,
      "outputs": [
        {
          "output_type": "display_data",
          "data": {
            "image/png": "[encoded data removed]",
            "text/plain": [
              "<Figure size 720x864 with 4 Axes>"
            ]
          },
          "metadata": {
            "tags": [],
            "needs_background": "light"
          }
        }
      ]
    },
    {
      "cell_type": "markdown",
      "metadata": {
        "id": "Dfz6cuxyHeMY"
      },
      "source": [
        "<p align=\"Justify\">\n",
        "Using the total score, we find that most metal albums are released in October, September, April and June. On the other side, it looks like December isn't a month with a lot of metal releases. This happens for both critics and users.\n",
        "<p align=\"Justify\">\n",
        "With the mean score we can find how the success of records released on each month. If we compare the months that accumulated more score we find that October has a mean score close to 74 for critics and 75 for users, September and April are close to 75 for both critics and users, and June is the least successful month with a mean score close to 71 for critics and 73 for users.\n",
        "<p align=\"Justify\">\n",
        "We also see that users are less critic and tend to give better scores than critics but it looks like there's no huge differences."
      ]
    },
    {
      "cell_type": "markdown",
      "metadata": {
        "id": "QHv4lsUWiS-N"
      },
      "source": [
        "## Number of records released by month"
      ]
    },
    {
      "cell_type": "code",
      "metadata": {
        "colab": {
          "base_uri": "https://localhost:8080/",
          "height": 295
        },
        "id": "i-kPTUmjiWWi",
        "outputId": "3118aae9-cc1e-4ce5-dce2-38c4fc43dd25"
      },
      "source": [
        "months = metal_clean['Release Month'].value_counts().reset_index()\n",
        "sns.barplot(x='Release Month', y='index', data=months)\n",
        "plt.title('Number of records released by month')\n",
        "plt.ylabel('')\n",
        "plt.xlabel('Number of records')\n",
        "sns.despine(left=False, bottom=False)"
      ],
      "execution_count": null,
      "outputs": [
        {
          "output_type": "display_data",
          "data": {
            "image/png": "[encoded data removed]",
            "text/plain": [
              "<Figure size 432x288 with 1 Axes>"
            ]
          },
          "metadata": {
            "tags": [],
            "needs_background": "light"
          }
        }
      ]
    },
    {
      "cell_type": "markdown",
      "metadata": {
        "id": "i39kUM8RjikX"
      },
      "source": [
        "<p align=\"Justify\">\n",
        "October is the month with most albums released with over 200 albums in total, September and April are close. In terms of competitiveness, it looks like it's better to release an album in December, January and July.\n",
        "<p align=\"Justify\">\n",
        "This plot is similar as the total score according to critics and users. However, if we use the mean score plot and this plot to try to find a good month to release an album, it looks like November it's a great month, it's close to 150 records released but it has a mean score of 75 in both critics and users."
      ]
    },
    {
      "cell_type": "markdown",
      "metadata": {
        "id": "4YmHPJ4VIibh"
      },
      "source": [
        "## Months most well recieved by critics and number of records released per month according to genres"
      ]
    },
    {
      "cell_type": "code",
      "metadata": {
        "id": "LBe0p3-jIq_Y",
        "colab": {
          "base_uri": "https://localhost:8080/",
          "height": 1000
        },
        "outputId": "646cbead-1463-4828-a371-c8e5aecaf847"
      },
      "source": [
        "fig, ax = plt.subplots(10, 2, figsize=(12,16))\n",
        "fig.tight_layout()\n",
        "fig.subplots_adjust(top=0.95)\n",
        "ax = ax.flatten()\n",
        "genres = ['Alternative Metal', 'Progressive Metal', 'Heavy Metal', 'Thrash Metal', 'Death Metal', 'Metalcore', \n",
        "          'Nu Metal', 'Black Metal', 'Sludge Metal', 'Stoner Metal']\n",
        "i = 0\n",
        "for genre in genres:\n",
        "  genre_data = metal_clean[metal_clean['Genre'] == genre].copy()\n",
        "  critics = genre_data[['Release Month', 'Critic Score']].copy()\n",
        "  critics_genre = critics.groupby('Release Month').mean()\n",
        "  critics_genre.sort_values(by=['Critic Score'], ascending=False, inplace=True)\n",
        "  sns.barplot(ax=ax[i], x='Critic Score', y=critics_genre.index[0:5], data=critics_genre[0:5])\n",
        "  ax[i].set_title(genre)\n",
        "  ax[i].set_xlabel('Mean Score')\n",
        "  i += 1\n",
        "\n",
        "  months = genre_data['Release Month'].value_counts().reset_index()\n",
        "  sns.barplot(ax=ax[i], x='Release Month', y='index', data=months[0:5])\n",
        "  title = 'Records released per month by ' + genre + ' artists'\n",
        "  ax[i].set_title(title)\n",
        "  ax[i].set_xlabel('Number of records')\n",
        "  i += 1\n",
        "\n",
        "plt.suptitle('Months well recieved and number of records released per month by genre')\n",
        "plt.subplots_adjust(hspace=0.9, wspace=0.2)\n",
        "sns.despine(left=False, bottom=False)\n",
        "\n",
        "for ax in ax.flat:\n",
        "  ax.set(ylabel='')"
      ],
      "execution_count": null,
      "outputs": [
        {
          "output_type": "display_data",
          "data": {
            "image/png": "[encoded data removed]",
            "text/plain": [
              "<Figure size 864x1152 with 20 Axes>"
            ]
          },
          "metadata": {
            "tags": [],
            "needs_background": "light"
          }
        }
      ]
    },
    {
      "cell_type": "markdown",
      "metadata": {
        "id": "5klGT3ebbYx_"
      },
      "source": [
        "<p align=\"Justify\">\n",
        "In this plot I took the ten genres that generates more feedback and plotted them alongside the number of records released per month by artists of that genre.\n",
        "<p align=\"Justify\">\n",
        "It's interesting that only Sludge Metal have really good scores on the month were artists release most records. In October there are 14 records released and they have a mean score of 80. In January there are 11 records released but they have a mean score close to 89 and in April there are 13 records released with a mean score close to 88. As there isn't a huge difference between them, it looks like any of these months are good months to release Sludge Metal records.\n",
        "<p align=\"Justify\">\n",
        "Alternative Metal artists might have good scores in December, also that month is a month with a low number of releases so it could sell well. There are 14 releases in November and they have a mean score of 85. January looks like another month with a low number of releases but critics score in this month is close to 70, maybe the records released in January weren't that good or critics are more strict this month.\n",
        "<p align=\"Justify\">\n",
        "Progressive Metal looks interesting as none of the months with most albums released are in the months with the greatest scores. It looks like a saturated Progressive Metal market isn't good for artists and they should release records on any other month. It also looks like this genre is constant with their quality as the variance between the scores are really low.\n",
        "<p align=\"Justify\">\n",
        "December looks like a great month for Heavy Metal as they have a score close to 80 and low amount of releases. September is the month with most releases and they have scores close to 85. February has a score close to 72 and 16 releases so it's an interesting month to release a new album.\n",
        "<p align=\"Justify\">\n",
        "Thrash Metal's best month is July with a score close to 80 and 13 releases. September is the month with the most releases with over 20 releases and a score of 85. It looks like even if the market is saturated with Thrash Metal records, these aren't bad at all.\n",
        "<p align=\"Justify\">\n",
        "October is the month with more Death Metal releases which isn't a surprise as most Death Metal groups have scary lyrics and concepts, like Lamb of God for example. However, this month isn't its best month in terms of scores. It's interesting that December is the month with the best score. It also looks like there is no big difference in the scores in December, May, November and March. A similar situation happens with Black Metal; the most releases happens in October but its best score (80) happens in December and February. October, however, is a good month with a score of 75.\n",
        "<p align=\"Justify\">\n",
        "Metalcore's best month is unknown as most of the information about releases were missing. But it looks like most of the records are released in September. The mean score of this genre is close to 75 which is no surprise. A similar thing happens with Nu Metal; we don't know which month has the best scores, but January is good with a score close to 70, and it's a month with not many releases.\n",
        "<p align=\"Justify\">\n",
        "It looks like October is the best month to release sludge metal records as this month has a score of 80 even with most of 14 records released. January and April are another two good months even with a kind of saturated market.\n",
        "<p align=\"Justify\">\n",
        "Finally, Stoner Metal have its best month in December with scores over 80. It also looks like this month has a low amount of release. It's also possible to say that there are not so many releases of this genre as September, the month with the most number of releases only have 9 releases."
      ]
    },
    {
      "cell_type": "markdown",
      "metadata": {
        "id": "GI5xPBhAXu17"
      },
      "source": [
        "## Records not well recieved by users but are the most acclaimed by the critic"
      ]
    },
    {
      "cell_type": "code",
      "metadata": {
        "colab": {
          "base_uri": "https://localhost:8080/",
          "height": 49
        },
        "id": "r2ZNxOHUoiRF",
        "outputId": "0f13d89d-b276-4f7c-83e3-e16bd8c07148"
      },
      "source": [
        "records = metal_clean[['Artist', 'Title', 'Critic Score', 'User Score']].copy()\n",
        "records.sort_values(by=['Critic Score'], inplace=True, ascending=False)\n",
        "records = records[(records['Critic Score'] >= 80) & (records['User Score'] <= 39)]\n",
        "records"
      ],
      "execution_count": null,
      "outputs": [
        {
          "output_type": "execute_result",
          "data": {
            "text/html": [
              "<div>\n",
              "<style scoped>\n",
              "    .dataframe tbody tr th:only-of-type {\n",
              "        vertical-align: middle;\n",
              "    }\n",
              "\n",
              "    .dataframe tbody tr th {\n",
              "        vertical-align: top;\n",
              "    }\n",
              "\n",
              "    .dataframe thead th {\n",
              "        text-align: right;\n",
              "    }\n",
              "</style>\n",
              "<table border=\"1\" class=\"dataframe\">\n",
              "  <thead>\n",
              "    <tr style=\"text-align: right;\">\n",
              "      <th></th>\n",
              "      <th>Artist</th>\n",
              "      <th>Title</th>\n",
              "      <th>Critic Score</th>\n",
              "      <th>User Score</th>\n",
              "    </tr>\n",
              "  </thead>\n",
              "  <tbody>\n",
              "  </tbody>\n",
              "</table>\n",
              "</div>"
            ],
            "text/plain": [
              "Empty DataFrame\n",
              "Columns: [Artist, Title, Critic Score, User Score]\n",
              "Index: []"
            ]
          },
          "metadata": {
            "tags": []
          },
          "execution_count": 59
        }
      ]
    },
    {
      "cell_type": "code",
      "metadata": {
        "colab": {
          "base_uri": "https://localhost:8080/",
          "height": 81
        },
        "id": "aHodBmeSXcHh",
        "outputId": "ace47fe6-2f77-4454-b4a4-5190fdf5330a"
      },
      "source": [
        "records = metal_clean[['Artist', 'Title', 'Critic Score', 'User Score']].copy()\n",
        "records.sort_values(by=['Critic Score'], inplace=True, ascending=False)\n",
        "records = records[(records['Critic Score'] >= 80) & (records['User Score'] <= 55)]\n",
        "records"
      ],
      "execution_count": null,
      "outputs": [
        {
          "output_type": "execute_result",
          "data": {
            "text/html": [
              "<div>\n",
              "<style scoped>\n",
              "    .dataframe tbody tr th:only-of-type {\n",
              "        vertical-align: middle;\n",
              "    }\n",
              "\n",
              "    .dataframe tbody tr th {\n",
              "        vertical-align: top;\n",
              "    }\n",
              "\n",
              "    .dataframe thead th {\n",
              "        text-align: right;\n",
              "    }\n",
              "</style>\n",
              "<table border=\"1\" class=\"dataframe\">\n",
              "  <thead>\n",
              "    <tr style=\"text-align: right;\">\n",
              "      <th></th>\n",
              "      <th>Artist</th>\n",
              "      <th>Title</th>\n",
              "      <th>Critic Score</th>\n",
              "      <th>User Score</th>\n",
              "    </tr>\n",
              "  </thead>\n",
              "  <tbody>\n",
              "    <tr>\n",
              "      <th>8266</th>\n",
              "      <td>Triptykon</td>\n",
              "      <td>Melana Chasmata</td>\n",
              "      <td>82.0</td>\n",
              "      <td>54.0</td>\n",
              "    </tr>\n",
              "  </tbody>\n",
              "</table>\n",
              "</div>"
            ],
            "text/plain": [
              "         Artist            Title  Critic Score  User Score\n",
              "8266  Triptykon  Melana Chasmata          82.0        54.0"
            ]
          },
          "metadata": {
            "tags": []
          },
          "execution_count": 60
        }
      ]
    },
    {
      "cell_type": "code",
      "metadata": {
        "colab": {
          "base_uri": "https://localhost:8080/",
          "height": 143
        },
        "id": "ktxb3_zuYVru",
        "outputId": "6fa7ddb8-9f75-427f-e227-776044e195c6"
      },
      "source": [
        "records = metal_clean[['Artist', 'Title', 'Critic Score', 'User Score']].copy()\n",
        "records.sort_values(by=['Critic Score'], inplace=True, ascending=False)\n",
        "records = records[(records['Critic Score'] >= 70) & (records['User Score'] <= 55)]\n",
        "records"
      ],
      "execution_count": null,
      "outputs": [
        {
          "output_type": "execute_result",
          "data": {
            "text/html": [
              "<div>\n",
              "<style scoped>\n",
              "    .dataframe tbody tr th:only-of-type {\n",
              "        vertical-align: middle;\n",
              "    }\n",
              "\n",
              "    .dataframe tbody tr th {\n",
              "        vertical-align: top;\n",
              "    }\n",
              "\n",
              "    .dataframe thead th {\n",
              "        text-align: right;\n",
              "    }\n",
              "</style>\n",
              "<table border=\"1\" class=\"dataframe\">\n",
              "  <thead>\n",
              "    <tr style=\"text-align: right;\">\n",
              "      <th></th>\n",
              "      <th>Artist</th>\n",
              "      <th>Title</th>\n",
              "      <th>Critic Score</th>\n",
              "      <th>User Score</th>\n",
              "    </tr>\n",
              "  </thead>\n",
              "  <tbody>\n",
              "    <tr>\n",
              "      <th>8266</th>\n",
              "      <td>Triptykon</td>\n",
              "      <td>Melana Chasmata</td>\n",
              "      <td>82.0</td>\n",
              "      <td>54.0</td>\n",
              "    </tr>\n",
              "    <tr>\n",
              "      <th>19829</th>\n",
              "      <td>Motionless in White</td>\n",
              "      <td>Graveyard Shift</td>\n",
              "      <td>77.0</td>\n",
              "      <td>52.0</td>\n",
              "    </tr>\n",
              "    <tr>\n",
              "      <th>29124</th>\n",
              "      <td>Six Feet Under</td>\n",
              "      <td>Nightmares of the Decomposed</td>\n",
              "      <td>72.0</td>\n",
              "      <td>51.0</td>\n",
              "    </tr>\n",
              "  </tbody>\n",
              "</table>\n",
              "</div>"
            ],
            "text/plain": [
              "                    Artist                         Title  Critic Score  \\\n",
              "8266             Triptykon               Melana Chasmata          82.0   \n",
              "19829  Motionless in White               Graveyard Shift          77.0   \n",
              "29124       Six Feet Under  Nightmares of the Decomposed          72.0   \n",
              "\n",
              "       User Score  \n",
              "8266         54.0  \n",
              "19829        52.0  \n",
              "29124        51.0  "
            ]
          },
          "metadata": {
            "tags": []
          },
          "execution_count": 61
        }
      ]
    },
    {
      "cell_type": "markdown",
      "metadata": {
        "id": "xuONYQs3npuP"
      },
      "source": [
        "Using Metacritic's values for Universal acclaim (scores over 80) and Generally unfavorable reviews (scores under 39) I tried to find the records that are acclaimed by the critics and hated by fans. However using those values, I did not found any record, i had to increase the User Score up to 55 to find that Triptykon's \"Melana Chasmata\" fills the criteria. This record was released in 2014, and it's very praised by critics, for example Kerrang Magazine, who gave this record a score of 100, says <i>\"It's all deathly bleak, fantastically original, and the heaviest album of 2014\"</i>, while SputnikMusic said <i>\"It's undoubtedly his most impressive collection of songs in over two decades\"</i> There are some harsher critics like The Austin Chronicle, who gave it a score of 67 and said <i>\"this record isn't as compelling as Frosties past, it at least signals a veteran innovator still engaged in his craft.\"</i>\n",
        "\n",
        "However, fans said <i>\"Definitely, not their best, they have other albums way better than this and to me it shows\"</i>, <i>\"just listened to it. And its not really bad. But lets be honest I expected something more by the reviews.\"</i> Also some of the bad critics made by users are from people who don't like this type of music.\n",
        "\n",
        "If I decrease the Critics Score to 70, two more records are found \"Graveyard Shift\" by Motionless in White and \"Nightmares of the Decomposed\" by Six Feet Under, but as \"Melana Chasmata\" both records aren't as bad as \"Result May Vary\" by Limp Bizkit.\n"
      ]
    },
    {
      "cell_type": "markdown",
      "metadata": {
        "id": "Y-671dqLYyE3"
      },
      "source": [
        "## Records not well recieved by the critics but acclaimed by the fans"
      ]
    },
    {
      "cell_type": "code",
      "metadata": {
        "colab": {
          "base_uri": "https://localhost:8080/",
          "height": 49
        },
        "id": "cplnFNN5Ygfw",
        "outputId": "28adae8b-1798-4bfa-c5c1-5767f79133d1"
      },
      "source": [
        "bad = metal_clean[['Artist', 'Title', 'User Score', 'Critic Score']].copy()\n",
        "bad.sort_values(by=['User Score'], inplace=True, ascending=False)\n",
        "bad = bad[(bad['User Score'] >= 80) & (bad['Critic Score'] <= 39)]\n",
        "bad"
      ],
      "execution_count": null,
      "outputs": [
        {
          "output_type": "execute_result",
          "data": {
            "text/html": [
              "<div>\n",
              "<style scoped>\n",
              "    .dataframe tbody tr th:only-of-type {\n",
              "        vertical-align: middle;\n",
              "    }\n",
              "\n",
              "    .dataframe tbody tr th {\n",
              "        vertical-align: top;\n",
              "    }\n",
              "\n",
              "    .dataframe thead th {\n",
              "        text-align: right;\n",
              "    }\n",
              "</style>\n",
              "<table border=\"1\" class=\"dataframe\">\n",
              "  <thead>\n",
              "    <tr style=\"text-align: right;\">\n",
              "      <th></th>\n",
              "      <th>Artist</th>\n",
              "      <th>Title</th>\n",
              "      <th>User Score</th>\n",
              "      <th>Critic Score</th>\n",
              "    </tr>\n",
              "  </thead>\n",
              "  <tbody>\n",
              "  </tbody>\n",
              "</table>\n",
              "</div>"
            ],
            "text/plain": [
              "Empty DataFrame\n",
              "Columns: [Artist, Title, User Score, Critic Score]\n",
              "Index: []"
            ]
          },
          "metadata": {
            "tags": []
          },
          "execution_count": 62
        }
      ]
    },
    {
      "cell_type": "code",
      "metadata": {
        "colab": {
          "base_uri": "https://localhost:8080/",
          "height": 112
        },
        "id": "UzwqRAwdY0_8",
        "outputId": "8c7ea5a5-7920-46e0-d989-6ba8631c0af8"
      },
      "source": [
        "bad = metal_clean[['Artist', 'Title', 'User Score', 'Critic Score']].copy()\n",
        "bad.sort_values(by=['User Score'], inplace=True, ascending=False)\n",
        "bad = bad[(bad['User Score'] >= 75) & (bad['Critic Score'] <= 55)]\n",
        "bad"
      ],
      "execution_count": null,
      "outputs": [
        {
          "output_type": "execute_result",
          "data": {
            "text/html": [
              "<div>\n",
              "<style scoped>\n",
              "    .dataframe tbody tr th:only-of-type {\n",
              "        vertical-align: middle;\n",
              "    }\n",
              "\n",
              "    .dataframe tbody tr th {\n",
              "        vertical-align: top;\n",
              "    }\n",
              "\n",
              "    .dataframe thead th {\n",
              "        text-align: right;\n",
              "    }\n",
              "</style>\n",
              "<table border=\"1\" class=\"dataframe\">\n",
              "  <thead>\n",
              "    <tr style=\"text-align: right;\">\n",
              "      <th></th>\n",
              "      <th>Artist</th>\n",
              "      <th>Title</th>\n",
              "      <th>User Score</th>\n",
              "      <th>Critic Score</th>\n",
              "    </tr>\n",
              "  </thead>\n",
              "  <tbody>\n",
              "    <tr>\n",
              "      <th>24531</th>\n",
              "      <td>Lost Horizon</td>\n",
              "      <td>A Flame to the Ground Beneath</td>\n",
              "      <td>82.0</td>\n",
              "      <td>48.0</td>\n",
              "    </tr>\n",
              "    <tr>\n",
              "      <th>7656</th>\n",
              "      <td>Helmet</td>\n",
              "      <td>Aftertaste</td>\n",
              "      <td>75.0</td>\n",
              "      <td>54.0</td>\n",
              "    </tr>\n",
              "  </tbody>\n",
              "</table>\n",
              "</div>"
            ],
            "text/plain": [
              "             Artist                          Title  User Score  Critic Score\n",
              "24531  Lost Horizon  A Flame to the Ground Beneath        82.0          48.0\n",
              "7656         Helmet                     Aftertaste        75.0          54.0"
            ]
          },
          "metadata": {
            "tags": []
          },
          "execution_count": 63
        }
      ]
    },
    {
      "cell_type": "markdown",
      "metadata": {
        "id": "ALBfeDqqrpRb"
      },
      "source": [
        "Using the same scores for acclaimed albums by fans and not well received by critics I did not found anything, I had to decrease both scores to 75 and 55 to find two records.\n",
        "\n",
        "\"A Flame to the Ground Beneath\" by Lost Horizon only has one Critic review and basically complains on how cliché and stereotypical the group is. On the users side, there are only two reviews one that just says <i>\"WHOA-OH-OH-AH-AH-AH-AAAA-HA-AH-AH-AH\"</i> five times and the second says <i>\"An underappreciated Power Metal band with their second and last release with incorporates of progressive and symphonic metal to great an epic fantasy like soundscape which is both captivating and thrilling. With something powerful soaring vocals with screams in triumphant, it is easy to see why many Power Metal Fans say this is one of the bests the genre has ever put out.\"</i>\n",
        "\n",
        "A similar situation happens with Helmet's \"Aftertaste\"; Stephen Thomas Erlewine at AllMusic says <i>\"Without the invention of Betty or the gut-level force of Meantime, Helmet is simply a bland alternative metal band, lacking riffs, hooks and purpose and relying only on volume. It's a shocking and disheartening turn of events for one of the more intriguing metal bands of the '90s.\"</i>, meanwhile Kevin Templeton at Drop-D said <i>\"Although I consider myself a fan of Helmet's riffs... er, music, I can't help feeling that they could sound a little more dangerous than this.\"</i> This record doesn't have written user reviews but comments found on other websites says <i>\"This album is a Classic that has stood the test of time. Some of my favourite lyrics and songs here\"</i>"
      ]
    },
    {
      "cell_type": "markdown",
      "metadata": {
        "id": "Yvi6bARD72dP"
      },
      "source": [
        "## Artist with greatest score by genre\n",
        "\n",
        "Now let's find the artist that had the greates score in each genre combining both critics and user scores"
      ]
    },
    {
      "cell_type": "code",
      "metadata": {
        "id": "wx4f5oXL5cfq",
        "colab": {
          "base_uri": "https://localhost:8080/"
        },
        "outputId": "f23295e5-d955-4cb2-d5ff-50d491ac129d"
      },
      "source": [
        "genres = metal_clean['Genre'].unique()\n",
        "genres.sort(axis=-1)\n",
        "print('The artists with greatest score in:')\n",
        "for genre in genres:\n",
        "  data = metal_clean[metal_clean['Genre'] == genre].copy()\n",
        "  data['Total Score'] = (data['Critic Score'] + data['User Score']) / 2\n",
        "  data = data[['Artist', 'Total Score']]\n",
        "  data_group = data.groupby('Artist').mean().reset_index()\n",
        "  max_score = data_group['Total Score'].max()\n",
        "  best = data_group[data_group['Total Score'] == max_score]\n",
        "  artist = best['Artist'].tolist()\n",
        "  for i in range(0, len(artist)):\n",
        "    print('{}: {}'.format(genre, artist[i].upper()))"
      ],
      "execution_count": null,
      "outputs": [
        {
          "output_type": "stream",
          "text": [
            "The artists with greatest score in:\n",
            "Alternative Metal: SYSTEM OF A DOWN\n",
            "Atmospheric Black Metal: NEGURÄƑ BUNGET\n",
            "Atmospheric Black Metal: ULVER\n",
            "Atmospheric Black Metal: YELLOW EYES\n",
            "Black Metal: SILENCER\n",
            "Death Metal: DISMEMBER\n",
            "Doom Metal: ESOTERIC\n",
            "Drone Metal: EARTH\n",
            "Folk Metal: AGALLOCH\n",
            "Funk Metal: SNOT\n",
            "Glam Metal: QUIET RIOT\n",
            "Gothic Metal: TIAMAT\n",
            "Groove Metal: DECAPITATED\n",
            "Heavy Metal: DAWNBRINGER\n",
            "Industrial Metal: GODFLESH\n",
            "Melodic Black Metal: VINTERLAND\n",
            "Melodic Death Metal: SHADOW OF INTENT\n",
            "Metal: AMENRA\n",
            "Metal: SARGEIST\n",
            "Metalcore: THE CHARIOT\n",
            "Nu Metal: SLIPKNOT\n",
            "Power Metal: GAMMA RAY\n",
            "Progressive Metal: ALKALOID\n",
            "Sludge Metal: CORROSION OF CONFORMITY\n",
            "Sludge Metal: SÃ³LSTAFIR\n",
            "Stoner Metal: ELECTRIC WIZARD\n",
            "Symphonic Metal: EPICA\n",
            "Thrash Metal: CELTIC FROST\n",
            "Trap Metal: ZILLAKAMI & SOSMULA\n"
          ],
          "name": "stdout"
        }
      ]
    },
    {
      "cell_type": "markdown",
      "metadata": {
        "id": "XLT_SSnS5SRq"
      },
      "source": [
        "## Best Album by Genre\n",
        "Finally let's find the best album in each genre using both critic and user score"
      ]
    },
    {
      "cell_type": "code",
      "metadata": {
        "id": "Xka_66mfY6w6",
        "colab": {
          "base_uri": "https://localhost:8080/"
        },
        "outputId": "44bd17f9-a33d-4dfb-ee54-31b2c1084ce0"
      },
      "source": [
        "genres = metal_clean['Genre'].unique()\n",
        "genres.sort(axis=-1)\n",
        "print('Best album by genre')\n",
        "for genre in genres:\n",
        "  data = metal_clean[metal_clean['Genre'] == genre].copy()\n",
        "  data['Total Score'] = (data['Critic Score'] + data['User Score']) / 2\n",
        "  max_score = data['Total Score'].max()\n",
        "  best = data[data['Total Score'] == max_score]\n",
        "  artist = best['Artist'].tolist()\n",
        "  album = best['Title'].tolist()\n",
        "  for i in range(0, len(artist)):\n",
        "    print('{}: {} by {}'.format(genre, album[i].upper(), artist[i].upper()))"
      ],
      "execution_count": null,
      "outputs": [
        {
          "output_type": "stream",
          "text": [
            "Best album by genre\n",
            "Alternative Metal: RAGE AGAINST THE MACHINE by RAGE AGAINST THE MACHINE\n",
            "Atmospheric Black Metal: OM by NEGURÄƑ BUNGET\n",
            "Atmospheric Black Metal: HVIS LYSET TAR OSS by BURZUM\n",
            "Atmospheric Black Metal: BERGTATT Â€“ ET EEVENTYR I 5 CAPITLER by ULVER\n",
            "Atmospheric Black Metal: IMMERSION TRENCH REVERIE by YELLOW EYES\n",
            "Black Metal: IN THE NIGHTSIDE ECLIPSE by EMPEROR\n",
            "Death Metal: LIKE AN EVER FLOWING STREAM by DISMEMBER\n",
            "Doom Metal: A PYRRHIC EXISTENCE by ESOTERIC\n",
            "Drone Metal: EARTH 2: SPECIAL LOW FREQUENCY VERSION by EARTH\n",
            "Folk Metal: MABOOL: THE STORY OF THE THREE SONS OF SEVEN by ORPHANED LAND\n",
            "Funk Metal: GET SOME by SNOT\n",
            "Glam Metal: METAL HEALTH by QUIET RIOT\n",
            "Gothic Metal: OBSIDIAN by PARADISE LOST\n",
            "Groove Metal: BURN MY EYES by MACHINE HEAD\n",
            "Heavy Metal: PARANOID by BLACK SABBATH\n",
            "Industrial Metal: STREETCLEANER by GODFLESH\n",
            "Melodic Black Metal: WELCOME MY LAST CHAPTER by VINTERLAND\n",
            "Melodic Death Metal: THE GALLERY by DARK TRANQUILLITY\n",
            "Melodic Death Metal: MELANCHOLY by SHADOW OF INTENT\n",
            "Metal: MOTHER EARTH by WITHIN TEMPTATION\n",
            "Metalcore: ALL WE LOVE WE LEAVE BEHIND by CONVERGE\n",
            "Nu Metal: THE NOTHING by KORN\n",
            "Power Metal: THE BLACK HALO by KAMELOT\n",
            "Progressive Metal: OBZEN by MESHUGGAH\n",
            "Progressive Metal: THE MOUNTAIN by HAKEN\n",
            "Sludge Metal: BLUE RECORD by BARONESS\n",
            "Stoner Metal: DOPESMOKER by SLEEP\n",
            "Symphonic Metal: THE QUANTUM ENIGMA by EPICA\n",
            "Thrash Metal: MASTER OF PUPPETS by METALLICA\n",
            "Trap Metal: CITY MORGUE VOL. 2: AS GOOD AS DEAD by ZILLAKAMI & SOSMULA\n"
          ],
          "name": "stdout"
        }
      ]
    }
  ]
}